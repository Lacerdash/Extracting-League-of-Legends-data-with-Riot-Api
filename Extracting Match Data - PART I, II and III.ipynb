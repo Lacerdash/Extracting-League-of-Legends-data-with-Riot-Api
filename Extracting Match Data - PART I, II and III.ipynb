{
 "cells": [
  {
   "cell_type": "markdown",
   "metadata": {},
   "source": [
    "# **Extracting League of Legends Match Data using Riot API**"
   ]
  },
  {
   "cell_type": "markdown",
   "metadata": {},
   "source": [
    "#### **What motivated me to create this guide?**\n",
    "\n",
    "I play League since season 4 and I´ve always been a fan of the game. Recently I have started studying Data Science and the analyst sector in esports, manly in LOL. And one day when I was trying to figure out a good project to my portifolio I came acroos a idea of using league of legends match data to make exploratory analysis, data visualization and ML. \n",
    "\n",
    "So why not?\n",
    "\n",
    "Since then, I have been looking where could I find LOL match data to use in my project. I even found some places with data sources available, but I decided to \"create\" my own data source, to my project be even more unique. After I decided this, I started studying about RIOT API to understand how could I use it to create my DataFrame. When I was able to figure out how I could do this using python + RIOT API, I immediately though about creating this guide to help others that might be in the same situation that I was."
   ]
  },
  {
   "cell_type": "markdown",
   "metadata": {},
   "source": [
    "#### **Do I need to know python?**\n",
    "\n",
    "This guide does not require you to know all about python. But it is recommended that if you do not know or if you know just a little bit, you look for some free python tutorials on the internet and Googling certain areas where you are not understanding what is going on.\n",
    "\n",
    "If you have any questions, feel free to send me a message on linkedin."
   ]
  },
  {
   "cell_type": "markdown",
   "metadata": {},
   "source": [
    "### **Importing Libraries**\n",
    "\n",
    "We will need 3 libraries thourghout this guide:\n",
    "- Request: Managing all our API requests \n",
    "- Pandas: Manipulating Data\n",
    "- Time: Handle if the riot API rate limite\n"
   ]
  },
  {
   "cell_type": "code",
   "execution_count": 3,
   "metadata": {},
   "outputs": [],
   "source": [
    "import requests\n",
    "import pandas as pd\n",
    "import time\n",
    "from warnings import simplefilter\n",
    "simplefilter(action=\"ignore\", category=pd.errors.PerformanceWarning)"
   ]
  },
  {
   "cell_type": "markdown",
   "metadata": {},
   "source": [
    "### **Getting your API Key**\n",
    "\n",
    "Log in with your [Riot Account](https://developer.riotgames.com/) and accept the terms of service. At the bottom, click \"I'm not a Robot\" and regenerate your API key."
   ]
  },
  {
   "cell_type": "markdown",
   "metadata": {},
   "source": [
    "Copy the API key below"
   ]
  },
  {
   "cell_type": "code",
   "execution_count": 9,
   "metadata": {},
   "outputs": [],
   "source": [
    "api_key = 'RGAPI-4e5ff2f3-9da2-488b-89e4-fb3227803e53'"
   ]
  },
  {
   "cell_type": "markdown",
   "metadata": {},
   "source": [
    "### **Part I: [LEAGUE-V4 Endpoint](https://developer.riotgames.com/apis#league-v4)**\n",
    "\n",
    "In this part we will use the League - V4 Endpoint to get the summoner information from players with elo greater than master"
   ]
  },
  {
   "cell_type": "markdown",
   "metadata": {},
   "source": [
    "First lets do our first API Call. [Click here](https://developer.riotgames.com/apis#league-v4) to go to the League-V4 ENDPOINT.\n",
    "\n",
    "Now click on the ENDPOINT \"/lol/league/v4/challengerleagues/by-queue/{queue}\", scroll to the bottom of the page and select RANKED_SOLO_5x5. Then, click \"EXECUTE REQUEST\".\n",
    "\n",
    "If all is correct you should see a 200 response code. And bellow it, on the Response Body, you should see, in this case, information about challangers players.\n",
    "\n",
    "Now go back to the beggining where you can see the request url. This is the url we are going to use to make the resquest, so copy and paste it in the code bellow.\n",
    "\n",
    "\n",
    "**IMPORTANT:** When dealing with APIs, we need to add \"?\" in the end of the ulr and declare the parameter name and value as we did bellow. "
   ]
  },
  {
   "cell_type": "code",
   "execution_count": 46,
   "metadata": {},
   "outputs": [
    {
     "data": {
      "text/plain": [
       "<Response [200]>"
      ]
     },
     "execution_count": 46,
     "metadata": {},
     "output_type": "execute_result"
    }
   ],
   "source": [
    "api_ulr = 'https://br1.api.riotgames.com/lol/league/v4/challengerleagues/by-queue/RANKED_SOLO_5x5' + '?api_key='+ api_key\n",
    "\n",
    "resp = requests.get(api_ulr)\n",
    "resp"
   ]
  },
  {
   "cell_type": "markdown",
   "metadata": {},
   "source": [
    "We are getting a 200 response code, which means sucessfull. But to see the data from this request we need to use the json method."
   ]
  },
  {
   "cell_type": "code",
   "execution_count": null,
   "metadata": {},
   "outputs": [],
   "source": [
    "api_ulr = 'https://br1.api.riotgames.com/lol/league/v4/challengerleagues/by-queue/RANKED_SOLO_5x5' + '?api_key='+ api_key\n",
    "\n",
    "resp = requests.get(api_ulr)\n",
    "resp.json()"
   ]
  },
  {
   "cell_type": "markdown",
   "metadata": {},
   "source": [
    "The important information is stored in the `entries` key, so if we pass it between [] we can acess only this part of the data"
   ]
  },
  {
   "cell_type": "code",
   "execution_count": null,
   "metadata": {},
   "outputs": [],
   "source": [
    "resp.json()['entries']"
   ]
  },
  {
   "cell_type": "markdown",
   "metadata": {},
   "source": [
    "Now to transform it into a DataFrame, to use this information, we can use the `pd.json_normalize` to the JSON data returned by the get request to turn it into a flat table."
   ]
  },
  {
   "cell_type": "code",
   "execution_count": 53,
   "metadata": {},
   "outputs": [
    {
     "data": {
      "text/html": [
       "<div>\n",
       "<style scoped>\n",
       "    .dataframe tbody tr th:only-of-type {\n",
       "        vertical-align: middle;\n",
       "    }\n",
       "\n",
       "    .dataframe tbody tr th {\n",
       "        vertical-align: top;\n",
       "    }\n",
       "\n",
       "    .dataframe thead th {\n",
       "        text-align: right;\n",
       "    }\n",
       "</style>\n",
       "<table border=\"1\" class=\"dataframe\">\n",
       "  <thead>\n",
       "    <tr style=\"text-align: right;\">\n",
       "      <th></th>\n",
       "      <th>summonerId</th>\n",
       "      <th>summonerName</th>\n",
       "      <th>leaguePoints</th>\n",
       "      <th>rank</th>\n",
       "      <th>wins</th>\n",
       "      <th>losses</th>\n",
       "      <th>veteran</th>\n",
       "      <th>inactive</th>\n",
       "      <th>freshBlood</th>\n",
       "      <th>hotStreak</th>\n",
       "    </tr>\n",
       "  </thead>\n",
       "  <tbody>\n",
       "    <tr>\n",
       "      <th>0</th>\n",
       "      <td>cJS17ysl3L7wK6rvTybv93LQQIFfNXmzJTHyn6U7y44g_w</td>\n",
       "      <td>Atrasia</td>\n",
       "      <td>996</td>\n",
       "      <td>I</td>\n",
       "      <td>249</td>\n",
       "      <td>168</td>\n",
       "      <td>False</td>\n",
       "      <td>False</td>\n",
       "      <td>True</td>\n",
       "      <td>False</td>\n",
       "    </tr>\n",
       "    <tr>\n",
       "      <th>1</th>\n",
       "      <td>Qxhotb8LesY9wNI7iU2UlQQHMV7wLbODaFFWMvDWgjiluQ</td>\n",
       "      <td>Youngatti</td>\n",
       "      <td>1161</td>\n",
       "      <td>I</td>\n",
       "      <td>408</td>\n",
       "      <td>353</td>\n",
       "      <td>True</td>\n",
       "      <td>False</td>\n",
       "      <td>False</td>\n",
       "      <td>False</td>\n",
       "    </tr>\n",
       "    <tr>\n",
       "      <th>2</th>\n",
       "      <td>-IaH1nm8elIFihOFSYPAowajun_zfpuU1pTudYfYv-pHYQ</td>\n",
       "      <td>ELOHIGH PUMITA</td>\n",
       "      <td>1004</td>\n",
       "      <td>I</td>\n",
       "      <td>193</td>\n",
       "      <td>147</td>\n",
       "      <td>False</td>\n",
       "      <td>False</td>\n",
       "      <td>False</td>\n",
       "      <td>False</td>\n",
       "    </tr>\n",
       "  </tbody>\n",
       "</table>\n",
       "</div>"
      ],
      "text/plain": [
       "                                       summonerId    summonerName  \\\n",
       "0  cJS17ysl3L7wK6rvTybv93LQQIFfNXmzJTHyn6U7y44g_w         Atrasia   \n",
       "1  Qxhotb8LesY9wNI7iU2UlQQHMV7wLbODaFFWMvDWgjiluQ       Youngatti   \n",
       "2  -IaH1nm8elIFihOFSYPAowajun_zfpuU1pTudYfYv-pHYQ  ELOHIGH PUMITA   \n",
       "\n",
       "   leaguePoints rank  wins  losses  veteran  inactive  freshBlood  hotStreak  \n",
       "0           996    I   249     168    False     False        True      False  \n",
       "1          1161    I   408     353     True     False       False      False  \n",
       "2          1004    I   193     147    False     False       False      False  "
      ]
     },
     "execution_count": 53,
     "metadata": {},
     "output_type": "execute_result"
    }
   ],
   "source": [
    "api_ulr = 'https://br1.api.riotgames.com/lol/league/v4/challengerleagues/by-queue/RANKED_SOLO_5x5' + '?api_key='+ api_key\n",
    " \n",
    "resp = requests.get(api_ulr)\n",
    "challenger_summoners = pd.json_normalize(resp.json()['entries'])\n",
    "challenger_summoners.head(3)"
   ]
  },
  {
   "cell_type": "markdown",
   "metadata": {},
   "source": [
    "Now that we now the basics about sending a request, getting the request data and transforming it into a DataFrame. We can join all we have done to create a funcion that will retunr all the information of players from Master to Challanger in Brazil, using the [League V4 Endpoint](https://developer.riotgames.com/apis#league-v4/GET_getMasterLeague).\n",
    "\n",
    "For this we will create a function that will take as a parameter the api_key.\n",
    "\n",
    "Now more about functions [here](https://www.programiz.com/python-programming/function)"
   ]
  },
  {
   "cell_type": "code",
   "execution_count": 55,
   "metadata": {},
   "outputs": [],
   "source": [
    "def get_summonerId(api_key):\n",
    "    challenger_url = 'https://br1.api.riotgames.com/lol/league/v4/challengerleagues/by-queue/RANKED_SOLO_5x5?api_key={}'.format(api_key) # Challanger ENDPOINT\n",
    "    grandmaster_url = 'https://br1.api.riotgames.com/lol/league/v4/grandmasterleagues/by-queue/RANKED_SOLO_5x5?api_key={}'.format(api_key) # Grandmaster EDNPOINT\n",
    "    master_url = 'https://br1.api.riotgames.com/lol/league/v4/masterleagues/by-queue/RANKED_SOLO_5x5?api_key={}'.format(api_key) # Master ENDPOINT\n",
    "\n",
    "    league_url_lists = [challenger_url, grandmaster_url, master_url] # Creating a list with the 3 endpoints (master, grandmaster and challenger)\n",
    "\n",
    "    df_list = [] # A list that will store the response from the get request (league_df)\n",
    "\n",
    "    for url in league_url_lists: # Loop interation through league_url_lists\n",
    "        resp = requests.get(url) # Sending a get request to the url\n",
    "        league_df = pd.json_normalize(resp.json()['entries'])\n",
    "        df_list.append(league_df)\n",
    "    \n",
    "    final_league_df = pd.concat(df_list) # Concatenating the stored information in league_url_lists to create the final_league_df\n",
    "\n",
    "    return final_league_df"
   ]
  },
  {
   "cell_type": "markdown",
   "metadata": {},
   "source": [
    "If we execute the function and assing it to a variable we can see the results"
   ]
  },
  {
   "cell_type": "code",
   "execution_count": 62,
   "metadata": {},
   "outputs": [
    {
     "name": "stdout",
     "output_type": "stream",
     "text": [
      "league_df has information about 4574 players between master and challenger elo\n"
     ]
    },
    {
     "data": {
      "text/html": [
       "<div>\n",
       "<style scoped>\n",
       "    .dataframe tbody tr th:only-of-type {\n",
       "        vertical-align: middle;\n",
       "    }\n",
       "\n",
       "    .dataframe tbody tr th {\n",
       "        vertical-align: top;\n",
       "    }\n",
       "\n",
       "    .dataframe thead th {\n",
       "        text-align: right;\n",
       "    }\n",
       "</style>\n",
       "<table border=\"1\" class=\"dataframe\">\n",
       "  <thead>\n",
       "    <tr style=\"text-align: right;\">\n",
       "      <th></th>\n",
       "      <th>summonerId</th>\n",
       "      <th>summonerName</th>\n",
       "      <th>leaguePoints</th>\n",
       "      <th>rank</th>\n",
       "      <th>wins</th>\n",
       "      <th>losses</th>\n",
       "      <th>veteran</th>\n",
       "      <th>inactive</th>\n",
       "      <th>freshBlood</th>\n",
       "      <th>hotStreak</th>\n",
       "    </tr>\n",
       "  </thead>\n",
       "  <tbody>\n",
       "    <tr>\n",
       "      <th>0</th>\n",
       "      <td>h4bbmLl0hgcuN6OX4_xI2JVCkiCG14ONmR0MMQ3VtvLJ</td>\n",
       "      <td>SSG Corëjj</td>\n",
       "      <td>1192</td>\n",
       "      <td>I</td>\n",
       "      <td>316</td>\n",
       "      <td>257</td>\n",
       "      <td>True</td>\n",
       "      <td>False</td>\n",
       "      <td>False</td>\n",
       "      <td>False</td>\n",
       "    </tr>\n",
       "    <tr>\n",
       "      <th>1</th>\n",
       "      <td>TwGS6c2Z3vsbdmmHOGH4LHgTOsbw1rZSboYSQ0qOPaUp9v...</td>\n",
       "      <td>não sou o sup</td>\n",
       "      <td>1440</td>\n",
       "      <td>I</td>\n",
       "      <td>181</td>\n",
       "      <td>120</td>\n",
       "      <td>True</td>\n",
       "      <td>False</td>\n",
       "      <td>False</td>\n",
       "      <td>False</td>\n",
       "    </tr>\n",
       "    <tr>\n",
       "      <th>2</th>\n",
       "      <td>89g5w4-d6pXyPob_6PiAgJGlC2arZ-b5rr_VUnLlrWxcGQ</td>\n",
       "      <td>Kick a boo</td>\n",
       "      <td>1265</td>\n",
       "      <td>I</td>\n",
       "      <td>359</td>\n",
       "      <td>294</td>\n",
       "      <td>True</td>\n",
       "      <td>False</td>\n",
       "      <td>False</td>\n",
       "      <td>False</td>\n",
       "    </tr>\n",
       "  </tbody>\n",
       "</table>\n",
       "</div>"
      ],
      "text/plain": [
       "                                          summonerId   summonerName  \\\n",
       "0       h4bbmLl0hgcuN6OX4_xI2JVCkiCG14ONmR0MMQ3VtvLJ     SSG Corëjj   \n",
       "1  TwGS6c2Z3vsbdmmHOGH4LHgTOsbw1rZSboYSQ0qOPaUp9v...  não sou o sup   \n",
       "2     89g5w4-d6pXyPob_6PiAgJGlC2arZ-b5rr_VUnLlrWxcGQ     Kick a boo   \n",
       "\n",
       "   leaguePoints rank  wins  losses  veteran  inactive  freshBlood  hotStreak  \n",
       "0          1192    I   316     257     True     False       False      False  \n",
       "1          1440    I   181     120     True     False       False      False  \n",
       "2          1265    I   359     294     True     False       False      False  "
      ]
     },
     "execution_count": 62,
     "metadata": {},
     "output_type": "execute_result"
    }
   ],
   "source": [
    "league_df = get_summonerId(api_key)\n",
    "print('league_df has information about {} players between master and challenger elo'.format(league_df.shape[0]))\n",
    "league_df.head(3)"
   ]
  },
  {
   "cell_type": "markdown",
   "metadata": {},
   "source": [
    "Now that we have this information we can head to the Second part of this guide."
   ]
  },
  {
   "cell_type": "markdown",
   "metadata": {},
   "source": [
    "### **PART II: [SUMMONER-V4 Endpoint](https://developer.riotgames.com/apis#summoner-v4/GET_getBySummonerId)**\n",
    "\n",
    "In this part we will use the `summonerId` column from the `league_df` that we have just created to retrieve the `puuid` and other information for each player, using the [SUMMONER-V4 Endpoint](https://developer.riotgames.com/apis#summoner-v4/GET_getBySummonerId).\n"
   ]
  },
  {
   "cell_type": "markdown",
   "metadata": {},
   "source": [
    "Lets understand how this EDNPOINT works. [Click here](https://developer.riotgames.com/apis#summoner-v4) to go to the Summoner - V4 Endpoint.\n",
    "\n",
    "Click on the EDNPOINT \"/lol/summoner/v4/summoners/{encryptedSummonerId}\", scroll down and on the encryptedSummonerId value put one summonerId. Then click in \"EXECUTE REQUEST\".\n",
    "\n",
    "As we can see the Reponse Body contains summoners information, including the `puuid` that is what we want. \n",
    "\n",
    "Once again copy the request url in the code bellow\n",
    "\n",
    "The process will be very similar with your first api call, just a slight difference we won´t need to put['entries']to get the data, since the it is only a simple dictionary."
   ]
  },
  {
   "cell_type": "markdown",
   "metadata": {},
   "source": [
    "#### **Testing with one summonerId**"
   ]
  },
  {
   "cell_type": "code",
   "execution_count": 10,
   "metadata": {},
   "outputs": [
    {
     "data": {
      "text/html": [
       "<div>\n",
       "<style scoped>\n",
       "    .dataframe tbody tr th:only-of-type {\n",
       "        vertical-align: middle;\n",
       "    }\n",
       "\n",
       "    .dataframe tbody tr th {\n",
       "        vertical-align: top;\n",
       "    }\n",
       "\n",
       "    .dataframe thead th {\n",
       "        text-align: right;\n",
       "    }\n",
       "</style>\n",
       "<table border=\"1\" class=\"dataframe\">\n",
       "  <thead>\n",
       "    <tr style=\"text-align: right;\">\n",
       "      <th></th>\n",
       "      <th>id</th>\n",
       "      <th>accountId</th>\n",
       "      <th>puuid</th>\n",
       "      <th>name</th>\n",
       "      <th>profileIconId</th>\n",
       "      <th>revisionDate</th>\n",
       "      <th>summonerLevel</th>\n",
       "    </tr>\n",
       "  </thead>\n",
       "  <tbody>\n",
       "    <tr>\n",
       "      <th>0</th>\n",
       "      <td>mx0nf-5HtF7GNZN7u_brogQVWKxSeabEQY4JNtfeiS9lmdQ</td>\n",
       "      <td>cr94iSRf_z9J4NzALZ335TO7Q2GMWMrO8Gu0RVw95ttdJ6...</td>\n",
       "      <td>-00t9W6o2B8dQYAEBHJoGifyJhObO-Kg14aTIOFMlQk9Xi...</td>\n",
       "      <td>Griba</td>\n",
       "      <td>7</td>\n",
       "      <td>1666128939575</td>\n",
       "      <td>244</td>\n",
       "    </tr>\n",
       "  </tbody>\n",
       "</table>\n",
       "</div>"
      ],
      "text/plain": [
       "                                                id  \\\n",
       "0  mx0nf-5HtF7GNZN7u_brogQVWKxSeabEQY4JNtfeiS9lmdQ   \n",
       "\n",
       "                                           accountId  \\\n",
       "0  cr94iSRf_z9J4NzALZ335TO7Q2GMWMrO8Gu0RVw95ttdJ6...   \n",
       "\n",
       "                                               puuid   name  profileIconId  \\\n",
       "0  -00t9W6o2B8dQYAEBHJoGifyJhObO-Kg14aTIOFMlQk9Xi...  Griba              7   \n",
       "\n",
       "    revisionDate  summonerLevel  \n",
       "0  1666128939575            244  "
      ]
     },
     "execution_count": 10,
     "metadata": {},
     "output_type": "execute_result"
    }
   ],
   "source": [
    "api_ulr = 'https://br1.api.riotgames.com/lol/summoner/v4/summoners/mx0nf-5HtF7GNZN7u_brogQVWKxSeabEQY4JNtfeiS9lmdQ' + '?api_key='+ api_key\n",
    " \n",
    "resp = requests.get(api_ulr)\n",
    "summoner_info = pd.json_normalize(resp.json())\n",
    "summoner_info.head()"
   ]
  },
  {
   "cell_type": "markdown",
   "metadata": {},
   "source": [
    "Now that we were able to retrieve the summoner_info for 1 player, we need to repeat this process for each summonerId in the league_df.\n",
    "\n",
    "To do that we will create another function that will receive a DataFram containing a column named \"summonerId\" (league_df) and the api_key. In this function we will create a for loop to iterate over each summonerId repeting the process we have just did above."
   ]
  },
  {
   "cell_type": "markdown",
   "metadata": {},
   "source": [
    "#### **Creating the function**"
   ]
  },
  {
   "cell_type": "code",
   "execution_count": 5,
   "metadata": {},
   "outputs": [],
   "source": [
    "def get_summonerinfo_by_summonerId(df, api_key):\n",
    "    \n",
    "    summoner_list = [] # list that will store the each summoner_info DataFrame\n",
    "\n",
    "    for i in range(len(df)): # len() get the numbers of rows of the match_ids parameter inserted. Then we use the range() function to create a sequence of number starting from 0 to number returned by len(). \n",
    "                            # With that we can interate trough each line in the match_ids dataframe (our function parameter) using the iloc function to get the matchid.\n",
    "\n",
    "        # Creating a dynamic api_ulr for each register in the summonerId column using iloc\n",
    "        api_url = ('https://br1.api.riotgames.com/lol/summoner/v4/summoners/{}?api_key={}'.format(df['summonerId'].iloc[i],api_key)\n",
    "\n",
    "        # Repeating the process we did at the begining\n",
    "        resp = requests.get(api_url)\n",
    "        print(resp.status_code)\n",
    "\n",
    "        # if, elif and while true to deal with riot api rate limit\n",
    "        if resp.status_code == 200:\n",
    "            pass\n",
    "        elif resp.status_code == 429:\n",
    "            while True: # while loop because of riot api cost\n",
    "                if resp.status_code == 429: #429 error is api cost issue\n",
    "                    print('429 delay try 10 second') #approximate 10 second wait before trying again\n",
    "                    time.sleep(10)\n",
    "\n",
    "                    # Trying again\n",
    "                    api_url = ('https://br1.api.riotgames.com/lol/summoner/v4/summoners/{}?api_key={}'.format(df['summonerId'].iloc[i],api_key)\n",
    "                    resp = requests.get(api_url)\n",
    "                    print(resp.status_code)\n",
    "\n",
    "                elif resp.status_code == 200:\n",
    "                    print('limit cost resolve')\n",
    "                    break\n",
    "\n",
    "        summoner_info = pd.json_normalize(resp.json()) # The same process we did at the beggining to create the DataFrame\n",
    "        summoner_list.append(summoner_info) # Appending the DataFrame generated (summoner_info) into the list \"summoner_list\"\n",
    "        \n",
    "    final_summoner_info = pd.concat(summoner_list) # Using pd.concat to concatenate the results stored in the list \"summoner_list\"\n",
    "            \n",
    "    return final_summoner_info\n",
    "    "
   ]
  },
  {
   "cell_type": "markdown",
   "metadata": {},
   "source": [
    "#### Executing the `'get_summonerinfo_by_summonerId'` function"
   ]
  },
  {
   "cell_type": "markdown",
   "metadata": {},
   "source": [
    "If we execute the function and assing it to a variable we can see the results. \n",
    "\n",
    "Take care, because the code took about 1:30 hour to execute in my computer. So you might want to save it for further usage."
   ]
  },
  {
   "cell_type": "code",
   "execution_count": null,
   "metadata": {},
   "outputs": [],
   "source": [
    "summoner_df = get_summonerinfo_by_summonerId(league_df, api_key)"
   ]
  },
  {
   "cell_type": "markdown",
   "metadata": {},
   "source": [
    "Reseting the index"
   ]
  },
  {
   "cell_type": "code",
   "execution_count": null,
   "metadata": {},
   "outputs": [],
   "source": [
    "summoner_df.reset_index(inplace = True) # Reseting the Index\n",
    "summoner_df.drop(columns='index', inplace = True) # Droping the column Index\n",
    "summoner_df.head()"
   ]
  },
  {
   "cell_type": "markdown",
   "metadata": {},
   "source": [
    "Saving the summoner_df"
   ]
  },
  {
   "cell_type": "code",
   "execution_count": null,
   "metadata": {},
   "outputs": [],
   "source": [
    "summoner_df.to_csv('summoner_df.csv', index = False) "
   ]
  },
  {
   "cell_type": "markdown",
   "metadata": {},
   "source": [
    "## **PART III: [MATCH-V5 Endpoint](https://developer.riotgames.com/apis#match-v5/GET_getMatch)**\n",
    "\n",
    "In this part we will use the `puuid` column from the `summoner_df`, that we've just created, to retrieve the last 20 matchIds for each `puuid`, using the [MATCH-V5 Endpoint](https://developer.riotgames.com/apis#match-v5/GET_getMatch)."
   ]
  },
  {
   "cell_type": "markdown",
   "metadata": {},
   "source": [
    "So first lets understand how this EDNPOINT works. [Click here](https://developer.riotgames.com/apis#match-v5) to go to the Match-V5 Endpoint.\n",
    "\n",
    "Click on the EDNPOINT \"/lol/match/v5/matches/by-puuid/{puuid}/ids\", scroll down and on the path parameters insert this puuid \"907TX3ji-JNb3NFS2m0hq0SBc4t0MFIuR0zG_nN-MAe1KY415e8GNgslVgdaBMXvfmFzLh5m7SvsiA\". Now on the Query parameters insert '420' as the queue (you can check the queue Ids [here](https://github.com/Lacerdash/Extracting-League-of-Legends-data-with-Riot-Api/blob/main/Files/queues%20Id.xlsx) or [here](https://static.developer.riotgames.com/docs/lol/queues.json)) and select ranked as the type. After that you click in \"EXECUTE REQUEST\".\n",
    "\n",
    "As we can see in the Response Body contains a list of the last 20 match Ids from the player. So everything is all right.\n",
    "\n",
    "Once again get the request url and copy it in the api_url"
   ]
  },
  {
   "cell_type": "markdown",
   "metadata": {},
   "source": [
    "#### **Testing with one puuid**"
   ]
  },
  {
   "cell_type": "code",
   "execution_count": null,
   "metadata": {},
   "outputs": [],
   "source": [
    "# & instead of ?, because there's already a ? in the original url\n",
    "api_ulr = 'https://americas.api.riotgames.com/lol/match/v5/matches/by-puuid/907TX3ji-JNb3NFS2m0hq0SBc4t0MFIuR0zG_nN-MAe1KY415e8GNgslVgdaBMXvfmFzLh5m7SvsiA/ids?queue=420&type=ranked&start=0&count=20' + '&api_key=' + api_key\n",
    " \n",
    "resp = requests.get(api_ulr)\n",
    "resp.json()"
   ]
  },
  {
   "cell_type": "markdown",
   "metadata": {},
   "source": [
    "We can see that the data returned by `resp.json()` is a list of matchIds. To transform it into a DataFrame we can use pd.DataFrame(), passing the resp.json as the data and 'matchid' as the column."
   ]
  },
  {
   "cell_type": "code",
   "execution_count": 52,
   "metadata": {},
   "outputs": [
    {
     "data": {
      "text/html": [
       "<div>\n",
       "<style scoped>\n",
       "    .dataframe tbody tr th:only-of-type {\n",
       "        vertical-align: middle;\n",
       "    }\n",
       "\n",
       "    .dataframe tbody tr th {\n",
       "        vertical-align: top;\n",
       "    }\n",
       "\n",
       "    .dataframe thead th {\n",
       "        text-align: right;\n",
       "    }\n",
       "</style>\n",
       "<table border=\"1\" class=\"dataframe\">\n",
       "  <thead>\n",
       "    <tr style=\"text-align: right;\">\n",
       "      <th></th>\n",
       "      <th>matchid</th>\n",
       "    </tr>\n",
       "  </thead>\n",
       "  <tbody>\n",
       "    <tr>\n",
       "      <th>0</th>\n",
       "      <td>BR1_2614740582</td>\n",
       "    </tr>\n",
       "    <tr>\n",
       "      <th>1</th>\n",
       "      <td>BR1_2614698761</td>\n",
       "    </tr>\n",
       "    <tr>\n",
       "      <th>2</th>\n",
       "      <td>BR1_2613549556</td>\n",
       "    </tr>\n",
       "  </tbody>\n",
       "</table>\n",
       "</div>"
      ],
      "text/plain": [
       "          matchid\n",
       "0  BR1_2614740582\n",
       "1  BR1_2614698761\n",
       "2  BR1_2613549556"
      ]
     },
     "execution_count": 52,
     "metadata": {},
     "output_type": "execute_result"
    }
   ],
   "source": [
    "api_ulr = 'https://americas.api.riotgames.com/lol/match/v5/matches/by-puuid/907TX3ji-JNb3NFS2m0hq0SBc4t0MFIuR0zG_nN-MAe1KY415e8GNgslVgdaBMXvfmFzLh5m7SvsiA/ids?queue=420&type=ranked&start=0&count=20' + '&api_key=' + api_key\n",
    " \n",
    "resp = requests.get(api_ulr)\n",
    "matchids = pd.DataFrame(resp.json(), columns = ['matchid'])\n",
    "matchids.head(3)"
   ]
  },
  {
   "cell_type": "markdown",
   "metadata": {},
   "source": [
    "Now that we were able to retrieve the last 20 5v5 Ranked Solo games for 1 player, we need to be able to repeat this process for each puuid in the summoner_df.\n",
    "\n",
    "To do that we will create a function that will receive a DataFrame containing a column named \"puuid\" (summoner_df) and the api_key. In this function we will create a for loop to iterate over each puuid repeting the process we have just did above."
   ]
  },
  {
   "cell_type": "markdown",
   "metadata": {},
   "source": [
    "#### **Creating the function**"
   ]
  },
  {
   "cell_type": "code",
   "execution_count": 14,
   "metadata": {},
   "outputs": [],
   "source": [
    "def get_matchids_by_puuid(df, api_key):\n",
    "\n",
    "    matchids_list = []\n",
    "\n",
    "    for i in range(len(df)):\n",
    "\n",
    "        api_url = 'https://americas.api.riotgames.com/lol/match/v5/matches/by-puuid/{}/ids?queue=420&type=ranked&start=0&count=20&api_key={}'.format(df['puuid'].iloc[i], api_key)\n",
    "\n",
    "        resp = requests.get(api_url) # Sending a get request to the api_url\n",
    "        print(resp.status_code)\n",
    "\n",
    "        if resp.status_code == 200:\n",
    "            pass\n",
    "        elif resp.status_code == 429:\n",
    "            while True: # while loop because of riot api cost\n",
    "                if resp.status_code == 429: #429 error is api cost issue\n",
    "                    print('429 delay try 100 second') #approximate 110 second wait\n",
    "                    time.sleep(10)\n",
    "\n",
    "                    api_url = 'https://americas.api.riotgames.com/lol/match/v5/matches/by-puuid/{}/ids?queue=420&type=ranked&start=0&count=20&api_key={}'.format(df['puuid'].iloc[i], api_key)\n",
    "                    resp = requests.get(api_url)\n",
    "                    print(resp.status_code)\n",
    "\n",
    "                elif resp.status_code == 200:\n",
    "                    print('limit cost resolve')\n",
    "                    break        \n",
    "\n",
    "        matchids = pd.DataFrame(resp.json(), columns = ['matchid']) \n",
    "        matchids_list.append(matchids) # Appending the DataFrame generated to the list \"matchids_list\"\n",
    "    \n",
    "    matchids_df = pd.concat(matchids_list) # Using pd.concat to concatenate the results stored in the \"matchids_list\"\n",
    "    \n",
    "    return matchids_df"
   ]
  },
  {
   "cell_type": "markdown",
   "metadata": {},
   "source": [
    "#### **Executing the `get_matchids_by_puuid` function**\n",
    "\n",
    "Take care, because if you try to execute the fucntion using the entire summoner_df it will took about 1:30 hours to execute, and it can fail many times before it runs successfully. So to avoida that, I've splited the summoner_df in half. Now I can run the function twice and then concatenated both results into a single DF. Each code takes about 45 minutes to complete, so you can do something while you are waiting. After that saved it for further usage."
   ]
  },
  {
   "cell_type": "code",
   "execution_count": 22,
   "metadata": {},
   "outputs": [
    {
     "name": "stdout",
     "output_type": "stream",
     "text": [
      "O summoner_df possui 4399 linhas\n"
     ]
    }
   ],
   "source": [
    "print('O summoner_df possui {} linhas'.format(summoner_df.shape[0]))"
   ]
  },
  {
   "cell_type": "code",
   "execution_count": null,
   "metadata": {},
   "outputs": [],
   "source": [
    "matchids_df = get_matchids_by_puuid(summoner_df.loc[:2200], api_key)"
   ]
  },
  {
   "cell_type": "code",
   "execution_count": null,
   "metadata": {},
   "outputs": [],
   "source": [
    "matchids_df_1 = get_matchids_by_puuid(summoner_df.loc[2201:], api_key)"
   ]
  },
  {
   "cell_type": "code",
   "execution_count": 50,
   "metadata": {},
   "outputs": [
    {
     "data": {
      "text/html": [
       "<div>\n",
       "<style scoped>\n",
       "    .dataframe tbody tr th:only-of-type {\n",
       "        vertical-align: middle;\n",
       "    }\n",
       "\n",
       "    .dataframe tbody tr th {\n",
       "        vertical-align: top;\n",
       "    }\n",
       "\n",
       "    .dataframe thead th {\n",
       "        text-align: right;\n",
       "    }\n",
       "</style>\n",
       "<table border=\"1\" class=\"dataframe\">\n",
       "  <thead>\n",
       "    <tr style=\"text-align: right;\">\n",
       "      <th></th>\n",
       "      <th>matchid</th>\n",
       "    </tr>\n",
       "  </thead>\n",
       "  <tbody>\n",
       "    <tr>\n",
       "      <th>0</th>\n",
       "      <td>BR1_2614740582</td>\n",
       "    </tr>\n",
       "    <tr>\n",
       "      <th>1</th>\n",
       "      <td>BR1_2614698761</td>\n",
       "    </tr>\n",
       "    <tr>\n",
       "      <th>2</th>\n",
       "      <td>BR1_2613549556</td>\n",
       "    </tr>\n",
       "  </tbody>\n",
       "</table>\n",
       "</div>"
      ],
      "text/plain": [
       "          matchid\n",
       "0  BR1_2614740582\n",
       "1  BR1_2614698761\n",
       "2  BR1_2613549556"
      ]
     },
     "execution_count": 50,
     "metadata": {},
     "output_type": "execute_result"
    }
   ],
   "source": [
    "matchids_df_list = [matchids_df, matchids_df_1]\n",
    "\n",
    "final_matchids_df= pd.concat(matchids_df_list)\n",
    "final_matchids_df.head(3)"
   ]
  },
  {
   "cell_type": "markdown",
   "metadata": {},
   "source": [
    "Reseting the Index"
   ]
  },
  {
   "cell_type": "code",
   "execution_count": null,
   "metadata": {},
   "outputs": [],
   "source": [
    "final_matchids_df.reset_index(inplace=True)\n",
    "final_matchids_df.drop(columns = 'index', inplace = True )\n",
    "final_matchids_df.head()"
   ]
  },
  {
   "cell_type": "markdown",
   "metadata": {},
   "source": [
    "Dropping duplicates, since we only want unique matchids"
   ]
  },
  {
   "cell_type": "code",
   "execution_count": 43,
   "metadata": {},
   "outputs": [],
   "source": [
    "final_matchids_df_without_duplicates = final_matchids_df.drop_duplicates()"
   ]
  },
  {
   "cell_type": "code",
   "execution_count": 44,
   "metadata": {},
   "outputs": [
    {
     "name": "stdout",
     "output_type": "stream",
     "text": [
      "Before we had 87980 matchids, after we have 35537 matchids\n"
     ]
    }
   ],
   "source": [
    "matchids_count_before = final_matchids_df.shape[0]\n",
    "matchids_count_after = final_matchids_df_without_duplicates.shape[0]\n",
    "print('Before we had {} matchids, after we have {} matchids'.format(matchids_count_before, matchids_count_after))"
   ]
  },
  {
   "cell_type": "markdown",
   "metadata": {},
   "source": [
    "Saving the `matchids_df_without_duplicates`"
   ]
  },
  {
   "cell_type": "code",
   "execution_count": 45,
   "metadata": {},
   "outputs": [],
   "source": [
    "final_matchids_df_without_duplicates.to_csv('matchids_df.csv', index = False)"
   ]
  },
  {
   "cell_type": "markdown",
   "metadata": {},
   "source": [
    "### **PART 4: [MATCH-V5 EDNPOINT](https://developer.riotgames.com/apis#match-v5/GET_getMatch)**\n",
    "\n",
    "In this part we will use the `matchid` column from the `matchids_df` to retrieve the match data for each `matchid`, using the [MATCH-V5 EDNPOINT](https://developer.riotgames.com/apis#match-v5/GET_getMatch)."
   ]
  },
  {
   "cell_type": "code",
   "execution_count": 4,
   "metadata": {},
   "outputs": [
    {
     "name": "stdout",
     "output_type": "stream",
     "text": [
      "There is a total of 35537 matchIds in matchids_df.csv\n"
     ]
    }
   ],
   "source": [
    "# Importing the matchids_df.csv generated in the \"PART 3: MATCH-V5 EDNPOINT\" above\n",
    "matchids_df = pd.read_csv('matchids_df.csv')\n",
    "print('There is a total of {} matchIds in matchids_df.csv'.format(matchids_df.shape[0]))"
   ]
  },
  {
   "cell_type": "markdown",
   "metadata": {},
   "source": [
    "So first lets understand how this EDNPOINT works. [Click here](https://developer.riotgames.com/apis#match-v5) to go to the Match-V5 Endpoint.\n",
    "\n",
    "Click on the EDNPOINT \"/lol/match/v5/matches/{matchId}\" and scroll down. On the path parameters insert one matchid from the `matchids_df` and select SELECT the REGION you are working with, in my case is AMERICAS. Then click in \"EXECUTE REQUEST\".\n",
    "\n",
    "We can see in the Response Body the information retrieved.\n",
    "\n",
    "Now scroll up the page where you can see the request url. This is the url we are going to use to make our resquest in the code bellow. "
   ]
  },
  {
   "cell_type": "markdown",
   "metadata": {},
   "source": [
    "#### **Testing with one match id**"
   ]
  },
  {
   "cell_type": "markdown",
   "metadata": {},
   "source": [
    "Setting the api_ulr to make the get request"
   ]
  },
  {
   "cell_type": "code",
   "execution_count": null,
   "metadata": {},
   "outputs": [],
   "source": [
    "# The match id I used is the BR1_2583404284 inserted rigth before the \"?api_key=\", you can replace it with the one you have used.\n",
    "api_ulr = 'https://americas.api.riotgames.com/lol/match/v5/matches/BR1_2583404284?api_key={}'.format(api_key)  \n",
    " \n",
    "resp = requests.get(api_ulr)\n",
    "resp.json()"
   ]
  },
  {
   "cell_type": "markdown",
   "metadata": {},
   "source": [
    "There is a lot of data there, so we need to understand how the json file is structured so we can acess the data we want, which is the match data.\n",
    "\n",
    "[Here](https://developer.riotgames.com/apis#match-v5/GET_getMatch) you can find more information about the JSON file generated by this ENDPOINT.\n",
    "\n",
    "But basically it has two first keys: 'metadata' and 'info'. Lets explore each of these keys to understand what data is inside each one."
   ]
  },
  {
   "cell_type": "code",
   "execution_count": null,
   "metadata": {},
   "outputs": [
    {
     "data": {
      "text/html": [
       "<div>\n",
       "<style scoped>\n",
       "    .dataframe tbody tr th:only-of-type {\n",
       "        vertical-align: middle;\n",
       "    }\n",
       "\n",
       "    .dataframe tbody tr th {\n",
       "        vertical-align: top;\n",
       "    }\n",
       "\n",
       "    .dataframe thead th {\n",
       "        text-align: right;\n",
       "    }\n",
       "</style>\n",
       "<table border=\"1\" class=\"dataframe\">\n",
       "  <thead>\n",
       "    <tr style=\"text-align: right;\">\n",
       "      <th></th>\n",
       "      <th>dataVersion</th>\n",
       "      <th>matchId</th>\n",
       "      <th>participants</th>\n",
       "    </tr>\n",
       "  </thead>\n",
       "  <tbody>\n",
       "    <tr>\n",
       "      <th>0</th>\n",
       "      <td>2</td>\n",
       "      <td>BR1_2583404284</td>\n",
       "      <td>[tzx5O014rLZrM98l42XxZD9-N-cOXWqoi8FeMpOOP5KSM...</td>\n",
       "    </tr>\n",
       "  </tbody>\n",
       "</table>\n",
       "</div>"
      ],
      "text/plain": [
       "  dataVersion         matchId  \\\n",
       "0           2  BR1_2583404284   \n",
       "\n",
       "                                        participants  \n",
       "0  [tzx5O014rLZrM98l42XxZD9-N-cOXWqoi8FeMpOOP5KSM...  "
      ]
     },
     "metadata": {},
     "output_type": "display_data"
    }
   ],
   "source": [
    "df = pd.json_normalize(resp.json()['metadata'])\n",
    "df"
   ]
  },
  {
   "cell_type": "markdown",
   "metadata": {},
   "source": [
    "The `'metadata'` contains a list of puuid for every player in the game stored in the `'participants'` column.\n",
    "\n",
    "**IMPORTANT:** The order in which these puuid's appear in this the `'participants'` column list is the same order they will appear for data elsewhere in this dictionary."
   ]
  },
  {
   "cell_type": "code",
   "execution_count": null,
   "metadata": {},
   "outputs": [
    {
     "data": {
      "text/html": [
       "<div>\n",
       "<style scoped>\n",
       "    .dataframe tbody tr th:only-of-type {\n",
       "        vertical-align: middle;\n",
       "    }\n",
       "\n",
       "    .dataframe tbody tr th {\n",
       "        vertical-align: top;\n",
       "    }\n",
       "\n",
       "    .dataframe thead th {\n",
       "        text-align: right;\n",
       "    }\n",
       "</style>\n",
       "<table border=\"1\" class=\"dataframe\">\n",
       "  <thead>\n",
       "    <tr style=\"text-align: right;\">\n",
       "      <th></th>\n",
       "      <th>gameCreation</th>\n",
       "      <th>gameDuration</th>\n",
       "      <th>gameEndTimestamp</th>\n",
       "      <th>gameId</th>\n",
       "      <th>gameMode</th>\n",
       "      <th>gameName</th>\n",
       "      <th>gameStartTimestamp</th>\n",
       "      <th>gameType</th>\n",
       "      <th>gameVersion</th>\n",
       "      <th>mapId</th>\n",
       "      <th>participants</th>\n",
       "      <th>platformId</th>\n",
       "      <th>queueId</th>\n",
       "      <th>teams</th>\n",
       "      <th>tournamentCode</th>\n",
       "    </tr>\n",
       "  </thead>\n",
       "  <tbody>\n",
       "    <tr>\n",
       "      <th>0</th>\n",
       "      <td>1661728836215</td>\n",
       "      <td>2245</td>\n",
       "      <td>1661731199572</td>\n",
       "      <td>2583404284</td>\n",
       "      <td>CLASSIC</td>\n",
       "      <td>teambuilder-match-2583404284</td>\n",
       "      <td>1661728954351</td>\n",
       "      <td>MATCHED_GAME</td>\n",
       "      <td>12.16.462.4391</td>\n",
       "      <td>11</td>\n",
       "      <td>[{'assists': 6, 'baronKills': 0, 'basicPings':...</td>\n",
       "      <td>BR1</td>\n",
       "      <td>440</td>\n",
       "      <td>[{'bans': [{'championId': 157, 'pickTurn': 1},...</td>\n",
       "      <td></td>\n",
       "    </tr>\n",
       "  </tbody>\n",
       "</table>\n",
       "</div>"
      ],
      "text/plain": [
       "    gameCreation  gameDuration  gameEndTimestamp      gameId gameMode  \\\n",
       "0  1661728836215          2245     1661731199572  2583404284  CLASSIC   \n",
       "\n",
       "                       gameName  gameStartTimestamp      gameType  \\\n",
       "0  teambuilder-match-2583404284       1661728954351  MATCHED_GAME   \n",
       "\n",
       "      gameVersion  mapId                                       participants  \\\n",
       "0  12.16.462.4391     11  [{'assists': 6, 'baronKills': 0, 'basicPings':...   \n",
       "\n",
       "  platformId  queueId                                              teams  \\\n",
       "0        BR1      440  [{'bans': [{'championId': 157, 'pickTurn': 1},...   \n",
       "\n",
       "  tournamentCode  \n",
       "0                 "
      ]
     },
     "metadata": {},
     "output_type": "display_data"
    }
   ],
   "source": [
    "df = pd.json_normalize(resp.json()['info'])\n",
    "df"
   ]
  },
  {
   "cell_type": "markdown",
   "metadata": {},
   "source": [
    "The `'info'` key has a lot of information about the match. But the main information is stored in the `'participants'` column. This column has a list, that contains a dictionary with kill, assist, deaths and other information for each player of the match.\n",
    "\n",
    "After said that, the information we want to get from the `'info'` key is the `'participants'` column."
   ]
  },
  {
   "cell_type": "code",
   "execution_count": null,
   "metadata": {},
   "outputs": [
    {
     "data": {
      "text/html": [
       "<div>\n",
       "<style scoped>\n",
       "    .dataframe tbody tr th:only-of-type {\n",
       "        vertical-align: middle;\n",
       "    }\n",
       "\n",
       "    .dataframe tbody tr th {\n",
       "        vertical-align: top;\n",
       "    }\n",
       "\n",
       "    .dataframe thead th {\n",
       "        text-align: right;\n",
       "    }\n",
       "</style>\n",
       "<table border=\"1\" class=\"dataframe\">\n",
       "  <thead>\n",
       "    <tr style=\"text-align: right;\">\n",
       "      <th></th>\n",
       "      <th>assists</th>\n",
       "      <th>baronKills</th>\n",
       "      <th>basicPings</th>\n",
       "      <th>bountyLevel</th>\n",
       "      <th>champExperience</th>\n",
       "      <th>champLevel</th>\n",
       "      <th>championId</th>\n",
       "      <th>championName</th>\n",
       "      <th>championTransform</th>\n",
       "      <th>consumablesPurchased</th>\n",
       "      <th>...</th>\n",
       "      <th>perks.statPerks.flex</th>\n",
       "      <th>perks.statPerks.offense</th>\n",
       "      <th>perks.styles</th>\n",
       "      <th>challenges.controlWardTimeCoverageInRiverOrEnemyHalf</th>\n",
       "      <th>challenges.highestChampionDamage</th>\n",
       "      <th>challenges.highestWardKills</th>\n",
       "      <th>challenges.junglerKillsEarlyJungle</th>\n",
       "      <th>challenges.killsOnLanersEarlyJungleAsJungler</th>\n",
       "      <th>challenges.fasterSupportQuestCompletion</th>\n",
       "      <th>challenges.highestCrowdControlScore</th>\n",
       "    </tr>\n",
       "  </thead>\n",
       "  <tbody>\n",
       "    <tr>\n",
       "      <th>0</th>\n",
       "      <td>6</td>\n",
       "      <td>0</td>\n",
       "      <td>2</td>\n",
       "      <td>0</td>\n",
       "      <td>21605</td>\n",
       "      <td>18</td>\n",
       "      <td>77</td>\n",
       "      <td>Udyr</td>\n",
       "      <td>0</td>\n",
       "      <td>1</td>\n",
       "      <td>...</td>\n",
       "      <td>5008</td>\n",
       "      <td>5007</td>\n",
       "      <td>[{'description': 'primaryStyle', 'selections':...</td>\n",
       "      <td>NaN</td>\n",
       "      <td>NaN</td>\n",
       "      <td>NaN</td>\n",
       "      <td>NaN</td>\n",
       "      <td>NaN</td>\n",
       "      <td>NaN</td>\n",
       "      <td>NaN</td>\n",
       "    </tr>\n",
       "    <tr>\n",
       "      <th>1</th>\n",
       "      <td>5</td>\n",
       "      <td>2</td>\n",
       "      <td>30</td>\n",
       "      <td>1</td>\n",
       "      <td>21097</td>\n",
       "      <td>18</td>\n",
       "      <td>121</td>\n",
       "      <td>Khazix</td>\n",
       "      <td>0</td>\n",
       "      <td>14</td>\n",
       "      <td>...</td>\n",
       "      <td>5008</td>\n",
       "      <td>5008</td>\n",
       "      <td>[{'description': 'primaryStyle', 'selections':...</td>\n",
       "      <td>0.589931</td>\n",
       "      <td>1.0</td>\n",
       "      <td>1.0</td>\n",
       "      <td>0.0</td>\n",
       "      <td>1.0</td>\n",
       "      <td>NaN</td>\n",
       "      <td>NaN</td>\n",
       "    </tr>\n",
       "    <tr>\n",
       "      <th>2</th>\n",
       "      <td>4</td>\n",
       "      <td>0</td>\n",
       "      <td>22</td>\n",
       "      <td>0</td>\n",
       "      <td>19262</td>\n",
       "      <td>18</td>\n",
       "      <td>268</td>\n",
       "      <td>Azir</td>\n",
       "      <td>0</td>\n",
       "      <td>6</td>\n",
       "      <td>...</td>\n",
       "      <td>5008</td>\n",
       "      <td>5005</td>\n",
       "      <td>[{'description': 'primaryStyle', 'selections':...</td>\n",
       "      <td>0.328858</td>\n",
       "      <td>NaN</td>\n",
       "      <td>NaN</td>\n",
       "      <td>NaN</td>\n",
       "      <td>NaN</td>\n",
       "      <td>NaN</td>\n",
       "      <td>NaN</td>\n",
       "    </tr>\n",
       "    <tr>\n",
       "      <th>3</th>\n",
       "      <td>5</td>\n",
       "      <td>0</td>\n",
       "      <td>2</td>\n",
       "      <td>1</td>\n",
       "      <td>15151</td>\n",
       "      <td>16</td>\n",
       "      <td>221</td>\n",
       "      <td>Zeri</td>\n",
       "      <td>0</td>\n",
       "      <td>1</td>\n",
       "      <td>...</td>\n",
       "      <td>5008</td>\n",
       "      <td>5005</td>\n",
       "      <td>[{'description': 'primaryStyle', 'selections':...</td>\n",
       "      <td>NaN</td>\n",
       "      <td>NaN</td>\n",
       "      <td>NaN</td>\n",
       "      <td>NaN</td>\n",
       "      <td>NaN</td>\n",
       "      <td>NaN</td>\n",
       "      <td>NaN</td>\n",
       "    </tr>\n",
       "    <tr>\n",
       "      <th>4</th>\n",
       "      <td>9</td>\n",
       "      <td>0</td>\n",
       "      <td>3</td>\n",
       "      <td>0</td>\n",
       "      <td>14112</td>\n",
       "      <td>15</td>\n",
       "      <td>99</td>\n",
       "      <td>Lux</td>\n",
       "      <td>0</td>\n",
       "      <td>2</td>\n",
       "      <td>...</td>\n",
       "      <td>5008</td>\n",
       "      <td>5007</td>\n",
       "      <td>[{'description': 'primaryStyle', 'selections':...</td>\n",
       "      <td>NaN</td>\n",
       "      <td>NaN</td>\n",
       "      <td>NaN</td>\n",
       "      <td>NaN</td>\n",
       "      <td>NaN</td>\n",
       "      <td>NaN</td>\n",
       "      <td>NaN</td>\n",
       "    </tr>\n",
       "    <tr>\n",
       "      <th>5</th>\n",
       "      <td>1</td>\n",
       "      <td>0</td>\n",
       "      <td>36</td>\n",
       "      <td>0</td>\n",
       "      <td>14629</td>\n",
       "      <td>15</td>\n",
       "      <td>126</td>\n",
       "      <td>Jayce</td>\n",
       "      <td>0</td>\n",
       "      <td>9</td>\n",
       "      <td>...</td>\n",
       "      <td>5008</td>\n",
       "      <td>5008</td>\n",
       "      <td>[{'description': 'primaryStyle', 'selections':...</td>\n",
       "      <td>NaN</td>\n",
       "      <td>NaN</td>\n",
       "      <td>NaN</td>\n",
       "      <td>NaN</td>\n",
       "      <td>NaN</td>\n",
       "      <td>NaN</td>\n",
       "      <td>NaN</td>\n",
       "    </tr>\n",
       "    <tr>\n",
       "      <th>6</th>\n",
       "      <td>7</td>\n",
       "      <td>0</td>\n",
       "      <td>25</td>\n",
       "      <td>1</td>\n",
       "      <td>16249</td>\n",
       "      <td>16</td>\n",
       "      <td>102</td>\n",
       "      <td>Shyvana</td>\n",
       "      <td>0</td>\n",
       "      <td>1</td>\n",
       "      <td>...</td>\n",
       "      <td>5008</td>\n",
       "      <td>5005</td>\n",
       "      <td>[{'description': 'primaryStyle', 'selections':...</td>\n",
       "      <td>0.114875</td>\n",
       "      <td>NaN</td>\n",
       "      <td>NaN</td>\n",
       "      <td>0.0</td>\n",
       "      <td>0.0</td>\n",
       "      <td>NaN</td>\n",
       "      <td>NaN</td>\n",
       "    </tr>\n",
       "    <tr>\n",
       "      <th>7</th>\n",
       "      <td>5</td>\n",
       "      <td>0</td>\n",
       "      <td>73</td>\n",
       "      <td>0</td>\n",
       "      <td>16582</td>\n",
       "      <td>17</td>\n",
       "      <td>61</td>\n",
       "      <td>Orianna</td>\n",
       "      <td>0</td>\n",
       "      <td>12</td>\n",
       "      <td>...</td>\n",
       "      <td>5008</td>\n",
       "      <td>5005</td>\n",
       "      <td>[{'description': 'primaryStyle', 'selections':...</td>\n",
       "      <td>0.068368</td>\n",
       "      <td>NaN</td>\n",
       "      <td>NaN</td>\n",
       "      <td>NaN</td>\n",
       "      <td>NaN</td>\n",
       "      <td>NaN</td>\n",
       "      <td>NaN</td>\n",
       "    </tr>\n",
       "    <tr>\n",
       "      <th>8</th>\n",
       "      <td>15</td>\n",
       "      <td>0</td>\n",
       "      <td>10</td>\n",
       "      <td>0</td>\n",
       "      <td>13237</td>\n",
       "      <td>15</td>\n",
       "      <td>412</td>\n",
       "      <td>Thresh</td>\n",
       "      <td>0</td>\n",
       "      <td>13</td>\n",
       "      <td>...</td>\n",
       "      <td>5002</td>\n",
       "      <td>5007</td>\n",
       "      <td>[{'description': 'primaryStyle', 'selections':...</td>\n",
       "      <td>0.425645</td>\n",
       "      <td>NaN</td>\n",
       "      <td>NaN</td>\n",
       "      <td>NaN</td>\n",
       "      <td>NaN</td>\n",
       "      <td>1.0</td>\n",
       "      <td>1.0</td>\n",
       "    </tr>\n",
       "    <tr>\n",
       "      <th>9</th>\n",
       "      <td>6</td>\n",
       "      <td>0</td>\n",
       "      <td>12</td>\n",
       "      <td>2</td>\n",
       "      <td>18840</td>\n",
       "      <td>18</td>\n",
       "      <td>51</td>\n",
       "      <td>Caitlyn</td>\n",
       "      <td>0</td>\n",
       "      <td>3</td>\n",
       "      <td>...</td>\n",
       "      <td>5008</td>\n",
       "      <td>5005</td>\n",
       "      <td>[{'description': 'primaryStyle', 'selections':...</td>\n",
       "      <td>0.061545</td>\n",
       "      <td>NaN</td>\n",
       "      <td>NaN</td>\n",
       "      <td>NaN</td>\n",
       "      <td>NaN</td>\n",
       "      <td>NaN</td>\n",
       "      <td>NaN</td>\n",
       "    </tr>\n",
       "  </tbody>\n",
       "</table>\n",
       "<p>10 rows × 232 columns</p>\n",
       "</div>"
      ],
      "text/plain": [
       "   assists  baronKills  basicPings  bountyLevel  champExperience  champLevel  \\\n",
       "0        6           0           2            0            21605          18   \n",
       "1        5           2          30            1            21097          18   \n",
       "2        4           0          22            0            19262          18   \n",
       "3        5           0           2            1            15151          16   \n",
       "4        9           0           3            0            14112          15   \n",
       "5        1           0          36            0            14629          15   \n",
       "6        7           0          25            1            16249          16   \n",
       "7        5           0          73            0            16582          17   \n",
       "8       15           0          10            0            13237          15   \n",
       "9        6           0          12            2            18840          18   \n",
       "\n",
       "   championId championName  championTransform  consumablesPurchased  ...  \\\n",
       "0          77         Udyr                  0                     1  ...   \n",
       "1         121       Khazix                  0                    14  ...   \n",
       "2         268         Azir                  0                     6  ...   \n",
       "3         221         Zeri                  0                     1  ...   \n",
       "4          99          Lux                  0                     2  ...   \n",
       "5         126        Jayce                  0                     9  ...   \n",
       "6         102      Shyvana                  0                     1  ...   \n",
       "7          61      Orianna                  0                    12  ...   \n",
       "8         412       Thresh                  0                    13  ...   \n",
       "9          51      Caitlyn                  0                     3  ...   \n",
       "\n",
       "   perks.statPerks.flex  perks.statPerks.offense  \\\n",
       "0                  5008                     5007   \n",
       "1                  5008                     5008   \n",
       "2                  5008                     5005   \n",
       "3                  5008                     5005   \n",
       "4                  5008                     5007   \n",
       "5                  5008                     5008   \n",
       "6                  5008                     5005   \n",
       "7                  5008                     5005   \n",
       "8                  5002                     5007   \n",
       "9                  5008                     5005   \n",
       "\n",
       "                                        perks.styles  \\\n",
       "0  [{'description': 'primaryStyle', 'selections':...   \n",
       "1  [{'description': 'primaryStyle', 'selections':...   \n",
       "2  [{'description': 'primaryStyle', 'selections':...   \n",
       "3  [{'description': 'primaryStyle', 'selections':...   \n",
       "4  [{'description': 'primaryStyle', 'selections':...   \n",
       "5  [{'description': 'primaryStyle', 'selections':...   \n",
       "6  [{'description': 'primaryStyle', 'selections':...   \n",
       "7  [{'description': 'primaryStyle', 'selections':...   \n",
       "8  [{'description': 'primaryStyle', 'selections':...   \n",
       "9  [{'description': 'primaryStyle', 'selections':...   \n",
       "\n",
       "   challenges.controlWardTimeCoverageInRiverOrEnemyHalf  \\\n",
       "0                                                NaN      \n",
       "1                                           0.589931      \n",
       "2                                           0.328858      \n",
       "3                                                NaN      \n",
       "4                                                NaN      \n",
       "5                                                NaN      \n",
       "6                                           0.114875      \n",
       "7                                           0.068368      \n",
       "8                                           0.425645      \n",
       "9                                           0.061545      \n",
       "\n",
       "   challenges.highestChampionDamage  challenges.highestWardKills  \\\n",
       "0                               NaN                          NaN   \n",
       "1                               1.0                          1.0   \n",
       "2                               NaN                          NaN   \n",
       "3                               NaN                          NaN   \n",
       "4                               NaN                          NaN   \n",
       "5                               NaN                          NaN   \n",
       "6                               NaN                          NaN   \n",
       "7                               NaN                          NaN   \n",
       "8                               NaN                          NaN   \n",
       "9                               NaN                          NaN   \n",
       "\n",
       "   challenges.junglerKillsEarlyJungle  \\\n",
       "0                                 NaN   \n",
       "1                                 0.0   \n",
       "2                                 NaN   \n",
       "3                                 NaN   \n",
       "4                                 NaN   \n",
       "5                                 NaN   \n",
       "6                                 0.0   \n",
       "7                                 NaN   \n",
       "8                                 NaN   \n",
       "9                                 NaN   \n",
       "\n",
       "   challenges.killsOnLanersEarlyJungleAsJungler  \\\n",
       "0                                           NaN   \n",
       "1                                           1.0   \n",
       "2                                           NaN   \n",
       "3                                           NaN   \n",
       "4                                           NaN   \n",
       "5                                           NaN   \n",
       "6                                           0.0   \n",
       "7                                           NaN   \n",
       "8                                           NaN   \n",
       "9                                           NaN   \n",
       "\n",
       "   challenges.fasterSupportQuestCompletion  \\\n",
       "0                                      NaN   \n",
       "1                                      NaN   \n",
       "2                                      NaN   \n",
       "3                                      NaN   \n",
       "4                                      NaN   \n",
       "5                                      NaN   \n",
       "6                                      NaN   \n",
       "7                                      NaN   \n",
       "8                                      1.0   \n",
       "9                                      NaN   \n",
       "\n",
       "   challenges.highestCrowdControlScore  \n",
       "0                                  NaN  \n",
       "1                                  NaN  \n",
       "2                                  NaN  \n",
       "3                                  NaN  \n",
       "4                                  NaN  \n",
       "5                                  NaN  \n",
       "6                                  NaN  \n",
       "7                                  NaN  \n",
       "8                                  1.0  \n",
       "9                                  NaN  \n",
       "\n",
       "[10 rows x 232 columns]"
      ]
     },
     "metadata": {},
     "output_type": "display_data"
    }
   ],
   "source": [
    "# Getting the information inside the 'participants' columns\n",
    "info_participant = pd.json_normalize(resp.json()['info']['participants'])\n",
    "info_participant.head(10)"
   ]
  },
  {
   "cell_type": "markdown",
   "metadata": {},
   "source": [
    "As we can see we have data about all 10 players that played the match."
   ]
  },
  {
   "cell_type": "markdown",
   "metadata": {},
   "source": [
    "Now that we have understood how to use the RIOT EDNPOINTS to get a single match data. We are able to repeat this process for all the matchids stored in the matchid_df, merging in the end all the information in 1 DataFrame. \n",
    "\n",
    "To do that we will create a function that will take as a parameter a DF with a column named `'matchid'` containing the matchIds, and the api_key. In the end the final result will be a unique DataFrame with all the matches information."
   ]
  },
  {
   "cell_type": "code",
   "execution_count": null,
   "metadata": {},
   "outputs": [],
   "source": [
    "def get_match_info_by_matchId(match_ids, api_key):\n",
    "\n",
    "    matchid_info_list = [] # List that will store the dataframes generated, for each match id in the for loop \n",
    "\n",
    "    for i in range(len(match_ids)):# len() get the numbers of rows of the match_ids parameter inserted. Then we use the range() function to create a sequence of number starting from 0 to number returned by len(). \n",
    "                            # With that we can interate trough each line in the match_ids dataframe (our function parameter) using the iloc function to get the matchid.\n",
    "\n",
    "        api_ulr = 'https://americas.api.riotgames.com/lol/match/v5/matches/{}?api_key={}'.format(match_ids['matchid'].iloc[i], api_key) # here we use the iloc function as explained above to form the api link for each matchid\n",
    "        resp = requests.get(api_ulr) # Sending a get request to the api_url\n",
    "        print(resp.status_code) # Printing the status_code of the request\n",
    "\n",
    "        if resp.status_code == 200: # Here we need to use if statment, because of the riot API rate limit which is 20 requests every 1 sec and 100 requests every 2 minutes. A 200 status_code means that the request was successful so it can move on.\n",
    "            pass                        \n",
    "        elif resp.status_code == 429: # A 429 means that we have exceeded the rate limit. To solve that we need to wait and then try again to get a successful request\n",
    "            while True: # To do taht we use a while true loop, to execute the if, elif statment repeatdly until the status_code is 200. After that we use break statement to come out of this loop.\n",
    "                if resp.status_code == 429: \n",
    "                    print('429 delay try 10 second') #approximate 110 second wait to work\n",
    "                    time.sleep(10) # Sleep\n",
    "\n",
    "                    api_url = 'https://americas.api.riotgames.com/lol/match/v5/matches/{}?api_key={}'.format(match_ids['matchid'].iloc[i], api_key) # Trying the request again\n",
    "                    resp = requests.get(api_url)\n",
    "                    print(resp.status_code)\n",
    "\n",
    "                elif resp.status_code == 200:\n",
    "                    print('limit cost resolve')\n",
    "                    break        \n",
    "\n",
    "        # Same process we did in the beginning             \n",
    "        matchid_info = pd.json_normalize(resp.json()['info']['participants'])\n",
    "        matchid_info_list.append(matchid_info) # Merging all the dataframes generated and then stored in the matchid_info_list with the concat() function\n",
    "        \n",
    "    matchid_info_df = pd.concat(matchid_info_list)\n",
    "\n",
    "    return matchid_info_df"
   ]
  },
  {
   "cell_type": "markdown",
   "metadata": {},
   "source": [
    "#### **Execution the `'get_match_info_by_matchId'` function**"
   ]
  },
  {
   "cell_type": "code",
   "execution_count": null,
   "metadata": {},
   "outputs": [
    {
     "name": "stdout",
     "output_type": "stream",
     "text": [
      "There is a total of 35537 matchIds in matchids_df.csv\n"
     ]
    }
   ],
   "source": [
    "print('There is a total of {} matchIds in matchids_df.csv'.format(matchids_df.shape[0]))"
   ]
  },
  {
   "cell_type": "markdown",
   "metadata": {},
   "source": [
    "Since the DataFrame has 35.537 rows it would took a tremendous amount of time to loop trough it. Not only because of the rate limit, but also because, in many cases, when I tried to do all at once an unexpected error occured in the middle of the code and you simple lose all the information.\n",
    "\n",
    "So to avoid that I dicided to take a sample of 10.000 out of the `'matchids_df'`, which is a considerable amount, and separate it in 10 parts of 1.000 to make it easier to run the function all concatenate all together at the end."
   ]
  },
  {
   "cell_type": "code",
   "execution_count": null,
   "metadata": {},
   "outputs": [],
   "source": [
    "# Dividing the sample DF\n",
    "matchids_df_reduced = matchids_df.sample(10000, random_state = 57)\n",
    "\n",
    "matchids_sample_1 = matchids_df_reduced.iloc[:1000]\n",
    "matchids_sample_2 = matchids_df_reduced.iloc[1000:2000]\n",
    "matchids_sample_3 = matchids_df_reduced.iloc[2000:3000]\n",
    "matchids_sample_4 = matchids_df_reduced.iloc[3000:4000]\n",
    "matchids_sample_5 = matchids_df_reduced.iloc[4000:5000]\n",
    "matchids_sample_6 = matchids_df_reduced.iloc[5000:6000]\n",
    "matchids_sample_7 = matchids_df_reduced.iloc[6000:7000]\n",
    "matchids_sample_8 = matchids_df_reduced.iloc[7000:8000]\n",
    "matchids_sample_9 = matchids_df_reduced.iloc[8000:9000]\n",
    "matchids_sample_10 = matchids_df_reduced.iloc[9000:10000]"
   ]
  },
  {
   "cell_type": "code",
   "execution_count": null,
   "metadata": {},
   "outputs": [],
   "source": [
    "matchid_info_df_1 = get_match_info_by_matchId(matchids_sample_1, api_key)\n",
    "matchid_info_df_1.to_csv('matchid_info_df_1.csv', index = False)"
   ]
  },
  {
   "cell_type": "code",
   "execution_count": null,
   "metadata": {},
   "outputs": [],
   "source": [
    "matchid_info_df_2 = get_match_info_by_matchId(matchids_sample_2, api_key)\n",
    "matchid_info_df_2.to_csv('matchid_info_df_2.csv', index = False)"
   ]
  },
  {
   "cell_type": "code",
   "execution_count": null,
   "metadata": {},
   "outputs": [],
   "source": [
    "matchid_info_df_3 = get_match_info_by_matchId(matchids_sample_3, api_key)\n",
    "matchid_info_df_3.to_csv('matchid_info_df_3.csv', index = False)"
   ]
  },
  {
   "cell_type": "code",
   "execution_count": null,
   "metadata": {},
   "outputs": [],
   "source": [
    "matchid_info_df_4 = get_match_info_by_matchId(matchids_sample_4, api_key)\n",
    "matchid_info_df_4.to_csv('matchid_info_df_4.csv', index = False)"
   ]
  },
  {
   "cell_type": "code",
   "execution_count": null,
   "metadata": {},
   "outputs": [],
   "source": [
    "matchid_info_df_5 = get_match_info_by_matchId(matchids_sample_5, api_key)\n",
    "matchid_info_df_5.to_csv('matchid_info_df_5.csv', index = False)"
   ]
  },
  {
   "cell_type": "code",
   "execution_count": null,
   "metadata": {},
   "outputs": [],
   "source": [
    "matchid_info_df_6 = get_match_info_by_matchId(matchids_sample_6, api_key)\n",
    "matchid_info_df_6.to_csv('matchid_info_df_6.csv', index = False)"
   ]
  },
  {
   "cell_type": "code",
   "execution_count": null,
   "metadata": {},
   "outputs": [],
   "source": [
    "matchid_info_df_7 = get_match_info_by_matchId(matchids_sample_7, api_key)\n",
    "matchid_info_df_7.to_csv('matchid_info_df_7.csv', index = False)"
   ]
  },
  {
   "cell_type": "code",
   "execution_count": null,
   "metadata": {},
   "outputs": [],
   "source": [
    "matchid_info_df_8 = get_match_info_by_matchId(matchids_sample_8, api_key)\n",
    "matchid_info_df_8.to_csv('matchid_info_df_8.csv', index = False)"
   ]
  },
  {
   "cell_type": "code",
   "execution_count": null,
   "metadata": {},
   "outputs": [],
   "source": [
    "matchid_info_df_9 = get_match_info_by_matchId(matchids_sample_9, api_key)\n",
    "matchid_info_df_9.to_csv('matchid_info_df_9.csv', index = False)"
   ]
  },
  {
   "cell_type": "code",
   "execution_count": null,
   "metadata": {},
   "outputs": [],
   "source": [
    "matchid_info_df_10 = get_match_info_by_matchId(matchids_sample_10, api_key)\n",
    "matchid_info_df_10.to_csv('matchid_info_df_10.csv', index = False)"
   ]
  },
  {
   "cell_type": "markdown",
   "metadata": {},
   "source": [
    "#### **Reading all the 10 DFs saved, to create 1 unique DF to store all the matches information**"
   ]
  },
  {
   "cell_type": "code",
   "execution_count": 13,
   "metadata": {},
   "outputs": [
    {
     "data": {
      "text/html": [
       "<div>\n",
       "<style scoped>\n",
       "    .dataframe tbody tr th:only-of-type {\n",
       "        vertical-align: middle;\n",
       "    }\n",
       "\n",
       "    .dataframe tbody tr th {\n",
       "        vertical-align: top;\n",
       "    }\n",
       "\n",
       "    .dataframe thead th {\n",
       "        text-align: right;\n",
       "    }\n",
       "</style>\n",
       "<table border=\"1\" class=\"dataframe\">\n",
       "  <thead>\n",
       "    <tr style=\"text-align: right;\">\n",
       "      <th></th>\n",
       "      <th>assists</th>\n",
       "      <th>baronKills</th>\n",
       "      <th>basicPings</th>\n",
       "      <th>bountyLevel</th>\n",
       "      <th>champExperience</th>\n",
       "      <th>champLevel</th>\n",
       "      <th>championId</th>\n",
       "      <th>championName</th>\n",
       "      <th>championTransform</th>\n",
       "      <th>consumablesPurchased</th>\n",
       "      <th>...</th>\n",
       "      <th>challenges.soloTurretsLategame</th>\n",
       "      <th>challenges.highestCrowdControlScore</th>\n",
       "      <th>challenges.highestWardKills</th>\n",
       "      <th>challenges.hadAfkTeammate</th>\n",
       "      <th>challenges.shortestTimeToAceFromFirstTakedown</th>\n",
       "      <th>challenges.baronBuffGoldAdvantageOverThreshold</th>\n",
       "      <th>challenges.fasterSupportQuestCompletion</th>\n",
       "      <th>challenges.thirdInhibitorDestroyedTime</th>\n",
       "      <th>challenges.earliestElderDragon</th>\n",
       "      <th>challenges.mejaisFullStackInTime</th>\n",
       "    </tr>\n",
       "  </thead>\n",
       "  <tbody>\n",
       "    <tr>\n",
       "      <th>0</th>\n",
       "      <td>10</td>\n",
       "      <td>0</td>\n",
       "      <td>10.0</td>\n",
       "      <td>1</td>\n",
       "      <td>13643</td>\n",
       "      <td>15</td>\n",
       "      <td>79</td>\n",
       "      <td>Gragas</td>\n",
       "      <td>0</td>\n",
       "      <td>3</td>\n",
       "      <td>...</td>\n",
       "      <td>NaN</td>\n",
       "      <td>NaN</td>\n",
       "      <td>NaN</td>\n",
       "      <td>NaN</td>\n",
       "      <td>NaN</td>\n",
       "      <td>NaN</td>\n",
       "      <td>NaN</td>\n",
       "      <td>NaN</td>\n",
       "      <td>NaN</td>\n",
       "      <td>NaN</td>\n",
       "    </tr>\n",
       "    <tr>\n",
       "      <th>1</th>\n",
       "      <td>7</td>\n",
       "      <td>1</td>\n",
       "      <td>100.0</td>\n",
       "      <td>3</td>\n",
       "      <td>14532</td>\n",
       "      <td>15</td>\n",
       "      <td>131</td>\n",
       "      <td>Diana</td>\n",
       "      <td>0</td>\n",
       "      <td>5</td>\n",
       "      <td>...</td>\n",
       "      <td>NaN</td>\n",
       "      <td>NaN</td>\n",
       "      <td>NaN</td>\n",
       "      <td>NaN</td>\n",
       "      <td>NaN</td>\n",
       "      <td>NaN</td>\n",
       "      <td>NaN</td>\n",
       "      <td>NaN</td>\n",
       "      <td>NaN</td>\n",
       "      <td>NaN</td>\n",
       "    </tr>\n",
       "    <tr>\n",
       "      <th>2</th>\n",
       "      <td>11</td>\n",
       "      <td>0</td>\n",
       "      <td>24.0</td>\n",
       "      <td>1</td>\n",
       "      <td>13207</td>\n",
       "      <td>15</td>\n",
       "      <td>157</td>\n",
       "      <td>Yasuo</td>\n",
       "      <td>0</td>\n",
       "      <td>2</td>\n",
       "      <td>...</td>\n",
       "      <td>NaN</td>\n",
       "      <td>NaN</td>\n",
       "      <td>NaN</td>\n",
       "      <td>NaN</td>\n",
       "      <td>NaN</td>\n",
       "      <td>NaN</td>\n",
       "      <td>NaN</td>\n",
       "      <td>NaN</td>\n",
       "      <td>NaN</td>\n",
       "      <td>NaN</td>\n",
       "    </tr>\n",
       "    <tr>\n",
       "      <th>3</th>\n",
       "      <td>7</td>\n",
       "      <td>0</td>\n",
       "      <td>13.0</td>\n",
       "      <td>3</td>\n",
       "      <td>12462</td>\n",
       "      <td>14</td>\n",
       "      <td>145</td>\n",
       "      <td>Kaisa</td>\n",
       "      <td>0</td>\n",
       "      <td>3</td>\n",
       "      <td>...</td>\n",
       "      <td>NaN</td>\n",
       "      <td>NaN</td>\n",
       "      <td>NaN</td>\n",
       "      <td>NaN</td>\n",
       "      <td>NaN</td>\n",
       "      <td>NaN</td>\n",
       "      <td>NaN</td>\n",
       "      <td>NaN</td>\n",
       "      <td>NaN</td>\n",
       "      <td>NaN</td>\n",
       "    </tr>\n",
       "    <tr>\n",
       "      <th>4</th>\n",
       "      <td>20</td>\n",
       "      <td>0</td>\n",
       "      <td>52.0</td>\n",
       "      <td>2</td>\n",
       "      <td>11338</td>\n",
       "      <td>13</td>\n",
       "      <td>526</td>\n",
       "      <td>Rell</td>\n",
       "      <td>0</td>\n",
       "      <td>19</td>\n",
       "      <td>...</td>\n",
       "      <td>NaN</td>\n",
       "      <td>NaN</td>\n",
       "      <td>NaN</td>\n",
       "      <td>NaN</td>\n",
       "      <td>NaN</td>\n",
       "      <td>NaN</td>\n",
       "      <td>NaN</td>\n",
       "      <td>NaN</td>\n",
       "      <td>NaN</td>\n",
       "      <td>NaN</td>\n",
       "    </tr>\n",
       "    <tr>\n",
       "      <th>...</th>\n",
       "      <td>...</td>\n",
       "      <td>...</td>\n",
       "      <td>...</td>\n",
       "      <td>...</td>\n",
       "      <td>...</td>\n",
       "      <td>...</td>\n",
       "      <td>...</td>\n",
       "      <td>...</td>\n",
       "      <td>...</td>\n",
       "      <td>...</td>\n",
       "      <td>...</td>\n",
       "      <td>...</td>\n",
       "      <td>...</td>\n",
       "      <td>...</td>\n",
       "      <td>...</td>\n",
       "      <td>...</td>\n",
       "      <td>...</td>\n",
       "      <td>...</td>\n",
       "      <td>...</td>\n",
       "      <td>...</td>\n",
       "      <td>...</td>\n",
       "    </tr>\n",
       "    <tr>\n",
       "      <th>9995</th>\n",
       "      <td>0</td>\n",
       "      <td>0</td>\n",
       "      <td>7.0</td>\n",
       "      <td>0</td>\n",
       "      <td>4179</td>\n",
       "      <td>8</td>\n",
       "      <td>27</td>\n",
       "      <td>Singed</td>\n",
       "      <td>0</td>\n",
       "      <td>0</td>\n",
       "      <td>...</td>\n",
       "      <td>NaN</td>\n",
       "      <td>NaN</td>\n",
       "      <td>NaN</td>\n",
       "      <td>NaN</td>\n",
       "      <td>NaN</td>\n",
       "      <td>NaN</td>\n",
       "      <td>NaN</td>\n",
       "      <td>NaN</td>\n",
       "      <td>NaN</td>\n",
       "      <td>NaN</td>\n",
       "    </tr>\n",
       "    <tr>\n",
       "      <th>9996</th>\n",
       "      <td>3</td>\n",
       "      <td>0</td>\n",
       "      <td>2.0</td>\n",
       "      <td>0</td>\n",
       "      <td>3753</td>\n",
       "      <td>7</td>\n",
       "      <td>35</td>\n",
       "      <td>Shaco</td>\n",
       "      <td>0</td>\n",
       "      <td>2</td>\n",
       "      <td>...</td>\n",
       "      <td>NaN</td>\n",
       "      <td>NaN</td>\n",
       "      <td>NaN</td>\n",
       "      <td>NaN</td>\n",
       "      <td>NaN</td>\n",
       "      <td>NaN</td>\n",
       "      <td>NaN</td>\n",
       "      <td>NaN</td>\n",
       "      <td>NaN</td>\n",
       "      <td>NaN</td>\n",
       "    </tr>\n",
       "    <tr>\n",
       "      <th>9997</th>\n",
       "      <td>0</td>\n",
       "      <td>0</td>\n",
       "      <td>0.0</td>\n",
       "      <td>5</td>\n",
       "      <td>6035</td>\n",
       "      <td>9</td>\n",
       "      <td>157</td>\n",
       "      <td>Yasuo</td>\n",
       "      <td>0</td>\n",
       "      <td>3</td>\n",
       "      <td>...</td>\n",
       "      <td>NaN</td>\n",
       "      <td>NaN</td>\n",
       "      <td>NaN</td>\n",
       "      <td>NaN</td>\n",
       "      <td>NaN</td>\n",
       "      <td>NaN</td>\n",
       "      <td>NaN</td>\n",
       "      <td>NaN</td>\n",
       "      <td>NaN</td>\n",
       "      <td>NaN</td>\n",
       "    </tr>\n",
       "    <tr>\n",
       "      <th>9998</th>\n",
       "      <td>1</td>\n",
       "      <td>0</td>\n",
       "      <td>1.0</td>\n",
       "      <td>0</td>\n",
       "      <td>3149</td>\n",
       "      <td>6</td>\n",
       "      <td>15</td>\n",
       "      <td>Sivir</td>\n",
       "      <td>0</td>\n",
       "      <td>2</td>\n",
       "      <td>...</td>\n",
       "      <td>NaN</td>\n",
       "      <td>NaN</td>\n",
       "      <td>NaN</td>\n",
       "      <td>NaN</td>\n",
       "      <td>NaN</td>\n",
       "      <td>NaN</td>\n",
       "      <td>NaN</td>\n",
       "      <td>NaN</td>\n",
       "      <td>NaN</td>\n",
       "      <td>NaN</td>\n",
       "    </tr>\n",
       "    <tr>\n",
       "      <th>9999</th>\n",
       "      <td>2</td>\n",
       "      <td>0</td>\n",
       "      <td>18.0</td>\n",
       "      <td>0</td>\n",
       "      <td>2492</td>\n",
       "      <td>6</td>\n",
       "      <td>888</td>\n",
       "      <td>Renata</td>\n",
       "      <td>0</td>\n",
       "      <td>5</td>\n",
       "      <td>...</td>\n",
       "      <td>NaN</td>\n",
       "      <td>1.0</td>\n",
       "      <td>1.0</td>\n",
       "      <td>NaN</td>\n",
       "      <td>NaN</td>\n",
       "      <td>NaN</td>\n",
       "      <td>NaN</td>\n",
       "      <td>NaN</td>\n",
       "      <td>NaN</td>\n",
       "      <td>NaN</td>\n",
       "    </tr>\n",
       "  </tbody>\n",
       "</table>\n",
       "<p>99990 rows × 238 columns</p>\n",
       "</div>"
      ],
      "text/plain": [
       "      assists  baronKills  basicPings  bountyLevel  champExperience  \\\n",
       "0          10           0        10.0            1            13643   \n",
       "1           7           1       100.0            3            14532   \n",
       "2          11           0        24.0            1            13207   \n",
       "3           7           0        13.0            3            12462   \n",
       "4          20           0        52.0            2            11338   \n",
       "...       ...         ...         ...          ...              ...   \n",
       "9995        0           0         7.0            0             4179   \n",
       "9996        3           0         2.0            0             3753   \n",
       "9997        0           0         0.0            5             6035   \n",
       "9998        1           0         1.0            0             3149   \n",
       "9999        2           0        18.0            0             2492   \n",
       "\n",
       "      champLevel  championId championName  championTransform  \\\n",
       "0             15          79       Gragas                  0   \n",
       "1             15         131        Diana                  0   \n",
       "2             15         157        Yasuo                  0   \n",
       "3             14         145        Kaisa                  0   \n",
       "4             13         526         Rell                  0   \n",
       "...          ...         ...          ...                ...   \n",
       "9995           8          27       Singed                  0   \n",
       "9996           7          35        Shaco                  0   \n",
       "9997           9         157        Yasuo                  0   \n",
       "9998           6          15        Sivir                  0   \n",
       "9999           6         888       Renata                  0   \n",
       "\n",
       "      consumablesPurchased  ...  challenges.soloTurretsLategame  \\\n",
       "0                        3  ...                             NaN   \n",
       "1                        5  ...                             NaN   \n",
       "2                        2  ...                             NaN   \n",
       "3                        3  ...                             NaN   \n",
       "4                       19  ...                             NaN   \n",
       "...                    ...  ...                             ...   \n",
       "9995                     0  ...                             NaN   \n",
       "9996                     2  ...                             NaN   \n",
       "9997                     3  ...                             NaN   \n",
       "9998                     2  ...                             NaN   \n",
       "9999                     5  ...                             NaN   \n",
       "\n",
       "      challenges.highestCrowdControlScore  challenges.highestWardKills  \\\n",
       "0                                     NaN                          NaN   \n",
       "1                                     NaN                          NaN   \n",
       "2                                     NaN                          NaN   \n",
       "3                                     NaN                          NaN   \n",
       "4                                     NaN                          NaN   \n",
       "...                                   ...                          ...   \n",
       "9995                                  NaN                          NaN   \n",
       "9996                                  NaN                          NaN   \n",
       "9997                                  NaN                          NaN   \n",
       "9998                                  NaN                          NaN   \n",
       "9999                                  1.0                          1.0   \n",
       "\n",
       "      challenges.hadAfkTeammate  \\\n",
       "0                           NaN   \n",
       "1                           NaN   \n",
       "2                           NaN   \n",
       "3                           NaN   \n",
       "4                           NaN   \n",
       "...                         ...   \n",
       "9995                        NaN   \n",
       "9996                        NaN   \n",
       "9997                        NaN   \n",
       "9998                        NaN   \n",
       "9999                        NaN   \n",
       "\n",
       "      challenges.shortestTimeToAceFromFirstTakedown  \\\n",
       "0                                               NaN   \n",
       "1                                               NaN   \n",
       "2                                               NaN   \n",
       "3                                               NaN   \n",
       "4                                               NaN   \n",
       "...                                             ...   \n",
       "9995                                            NaN   \n",
       "9996                                            NaN   \n",
       "9997                                            NaN   \n",
       "9998                                            NaN   \n",
       "9999                                            NaN   \n",
       "\n",
       "      challenges.baronBuffGoldAdvantageOverThreshold  \\\n",
       "0                                                NaN   \n",
       "1                                                NaN   \n",
       "2                                                NaN   \n",
       "3                                                NaN   \n",
       "4                                                NaN   \n",
       "...                                              ...   \n",
       "9995                                             NaN   \n",
       "9996                                             NaN   \n",
       "9997                                             NaN   \n",
       "9998                                             NaN   \n",
       "9999                                             NaN   \n",
       "\n",
       "      challenges.fasterSupportQuestCompletion  \\\n",
       "0                                         NaN   \n",
       "1                                         NaN   \n",
       "2                                         NaN   \n",
       "3                                         NaN   \n",
       "4                                         NaN   \n",
       "...                                       ...   \n",
       "9995                                      NaN   \n",
       "9996                                      NaN   \n",
       "9997                                      NaN   \n",
       "9998                                      NaN   \n",
       "9999                                      NaN   \n",
       "\n",
       "      challenges.thirdInhibitorDestroyedTime  challenges.earliestElderDragon  \\\n",
       "0                                        NaN                             NaN   \n",
       "1                                        NaN                             NaN   \n",
       "2                                        NaN                             NaN   \n",
       "3                                        NaN                             NaN   \n",
       "4                                        NaN                             NaN   \n",
       "...                                      ...                             ...   \n",
       "9995                                     NaN                             NaN   \n",
       "9996                                     NaN                             NaN   \n",
       "9997                                     NaN                             NaN   \n",
       "9998                                     NaN                             NaN   \n",
       "9999                                     NaN                             NaN   \n",
       "\n",
       "      challenges.mejaisFullStackInTime  \n",
       "0                                  NaN  \n",
       "1                                  NaN  \n",
       "2                                  NaN  \n",
       "3                                  NaN  \n",
       "4                                  NaN  \n",
       "...                                ...  \n",
       "9995                               NaN  \n",
       "9996                               NaN  \n",
       "9997                               NaN  \n",
       "9998                               NaN  \n",
       "9999                               NaN  \n",
       "\n",
       "[99990 rows x 238 columns]"
      ]
     },
     "execution_count": 13,
     "metadata": {},
     "output_type": "execute_result"
    }
   ],
   "source": [
    "matchid_info_df_list = []\n",
    "for i in range(1, 11):\n",
    "    df = pd.read_csv('matchid_info_df_{}.csv'.format(i))\n",
    "    matchid_info_df_list.append(df)\n",
    "\n",
    "matchData_df= pd.concat(matchid_info_df_list)\n",
    "matchData_df"
   ]
  },
  {
   "cell_type": "markdown",
   "metadata": {},
   "source": [
    "Saving the `'matchData_df'`"
   ]
  },
  {
   "cell_type": "code",
   "execution_count": 14,
   "metadata": {},
   "outputs": [],
   "source": [
    "matchData_df.to_csv('matchData_df.csv', index = False)"
   ]
  },
  {
   "cell_type": "markdown",
   "metadata": {},
   "source": [
    "### **Next steps?**\n",
    "\n",
    "With that, we've concluded our guide to the Riot API: Extracting League of Legends Match Data\n",
    "\n",
    "Now you have created your own DataBase. So you can use that to make exploratory analysis to crate hypothesis. In additional to that, you can make some data visualization using python or other program. \n",
    "\n",
    "This guide was 1 of many usage cases for the Riot API. To help you think of potential ideas, I'll list a few of the popular APIs that you can use:\n",
    "\n",
    "- How much Mastery a player has on each Champion\n",
    "- In-depth game detail for every minute of the game (i.e. how much Gold/XP each player has at 12 minutes)\n",
    "- In-depth objective and kill data, like who killed who, when and where\n",
    "- Ranked information, such as their current rank for each queue\n",
    "- Who is currently in Challenger, Grand Master & Master (& every queue below that too!)\n",
    "- And much more...!\n",
    "\n",
    "You can connect with me in likedin to ask questions: https://www.linkedin.com/in/fernando-lacerda-/\n",
    "\n",
    "I'am starting to write a articles about statistics/AI/esports/gaming, you can subscribe here: "
   ]
  },
  {
   "cell_type": "markdown",
   "metadata": {},
   "source": [
    "I listed bellow the main columns from the matchData_df, so you do not have to worry about figuring out which column to use. If you want to know more about the columns I can check that in the [MATCH-V5 EDNPOINT](https://developer.riotgames.com/apis#match-v5/GET_getMatch)"
   ]
  },
  {
   "cell_type": "code",
   "execution_count": 15,
   "metadata": {},
   "outputs": [
    {
     "name": "stdout",
     "output_type": "stream",
     "text": [
      "The original dataset has 238, I choose to use 30 columns\n"
     ]
    }
   ],
   "source": [
    "useful_columns = ['assists', 'champLevel', 'championName', 'deaths', 'detectorWardsPlaced', 'gameEndedInEarlySurrender', \n",
    "                'gameEndedInSurrender', 'goldEarned', 'inhibitorsLost', 'kills', 'magicDamageDealt', 'magicDamageDealtToChampions', \n",
    "                'neutralMinionsKilled', 'physicalDamageDealt', 'physicalDamageDealtToChampions', 'physicalDamageTaken', 'profileIcon', \n",
    "                'sightWardsBoughtInGame', 'teamId', 'teamPosition', 'totalDamageDealt', 'totalDamageDealtToChampions', 'totalMinionsKilled', \n",
    "                'trueDamageDealt', 'trueDamageDealtToChampions', 'turretsLost', 'visionScore', 'wardsKilled', 'wardsPlaced', 'win'\n",
    "                ]\n",
    "\n",
    "print('The original dataset has {}, I choose to use {} columns'.format(matchData_df.shape[1], len(useful_columns)))"
   ]
  }
 ],
 "metadata": {
  "kernelspec": {
   "display_name": "Python 3.9.12 ('base')",
   "language": "python",
   "name": "python3"
  },
  "language_info": {
   "codemirror_mode": {
    "name": "ipython",
    "version": 3
   },
   "file_extension": ".py",
   "mimetype": "text/x-python",
   "name": "python",
   "nbconvert_exporter": "python",
   "pygments_lexer": "ipython3",
   "version": "3.9.12"
  },
  "orig_nbformat": 4,
  "vscode": {
   "interpreter": {
    "hash": "d8ec4a234a3048a765173e7b64119a8d1a8e4ce4548f9a2d0fe97ce15d6f4926"
   }
  }
 },
 "nbformat": 4,
 "nbformat_minor": 2
}
