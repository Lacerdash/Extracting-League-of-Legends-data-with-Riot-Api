{
 "cells": [
  {
   "cell_type": "markdown",
   "metadata": {},
   "source": [
    "# **Extracting League of Legends Match Data using Riot API - PART I, II and III**"
   ]
  },
  {
   "cell_type": "markdown",
   "metadata": {},
   "source": [
    "**What motivated me to create this guide?**\n",
    "\n",
    "I play League since season 4 and I´ve always been a fan of the game. Recently I have started studying Data Science and the analyst sector in esports, manly in LOL. And one day when I was trying to figure out a good project to my portifolio I came acroos a idea of using league of legends match data to make exploratory analysis, data visualization and ML. \n",
    "\n",
    "So why not?\n",
    "\n",
    "Since then, I have been looking where could I find LOL match data to use in my project. I even found some places with data sources available, but I decided to \"create\" my own data source, to my project be even more unique. After I decided this, I started studying about RIOT API to understand how could I use it to create my DataFrame. When I was able to figure out how I could do this using python + RIOT API, I immediately though about creating this guide to help others that might be in the same situation that I was."
   ]
  },
  {
   "cell_type": "markdown",
   "metadata": {},
   "source": [
    "#### **Do I need to know python?**\n",
    "\n",
    "This guide does not require you to know all about python. But it is recommended that if you do not know or if you know just a little bit, you look for some free python tutorials on the internet and Googling certain areas where you are not understanding what is going on.\n",
    "\n",
    "If you have any questions, feel free to send me a message on linkedin."
   ]
  },
  {
   "cell_type": "markdown",
   "metadata": {},
   "source": [
    "### **Importing the Libraries**\n",
    "\n",
    "We will need 3 libraries thourghout this guide:\n",
    "- Request: Managing all our API requests \n",
    "- Pandas: Manipulating Data\n",
    "- Time: Handle if the riot API rate limite\n"
   ]
  },
  {
   "cell_type": "code",
   "execution_count": 2,
   "metadata": {},
   "outputs": [],
   "source": [
    "import requests\n",
    "import pandas as pd\n",
    "import time"
   ]
  },
  {
   "cell_type": "markdown",
   "metadata": {},
   "source": [
    "### **Getting your API Key**\n",
    "\n",
    "Log in with your [Riot Account](https://developer.riotgames.com/) and accept the terms of service. At the bottom, click \"I'm not a Robot\" and regenerate your API key."
   ]
  },
  {
   "cell_type": "markdown",
   "metadata": {},
   "source": [
    "Copy the API key below"
   ]
  },
  {
   "cell_type": "code",
   "execution_count": 36,
   "metadata": {},
   "outputs": [],
   "source": [
    "api_key = 'RGAPI-4e950325-1e13-428c-8460-37d232e75654'"
   ]
  },
  {
   "cell_type": "markdown",
   "metadata": {},
   "source": [
    "### **Part I: [LEAGUE-V4 Endpoint](https://developer.riotgames.com/apis#league-v4)**\n",
    "\n",
    "In this part we will use the League - V4 Endpoint to get the summoner information from players with elo greater than master"
   ]
  },
  {
   "cell_type": "markdown",
   "metadata": {},
   "source": [
    "First lets do our first API Call. [Click here](https://developer.riotgames.com/apis#league-v4) to go to the League-V4 ENDPOINT.\n",
    "\n",
    "Now click on the ENDPOINT \"/lol/league/v4/challengerleagues/by-queue/{queue}\", scroll to the bottom of the page and select RANKED_SOLO_5x5. Then, click \"EXECUTE REQUEST\".\n",
    "\n",
    "If all is correct you should see a 200 response code. And bellow it, on the Response Body, you should see, in this case, information about challangers players.\n",
    "\n",
    "Now go back to the beggining where you can see the request url. This is the url we are going to use to make the resquest, so copy and paste it in the code bellow.\n",
    "\n",
    "\n",
    "**IMPORTANT:** When dealing with APIs, we need to add \"?\" in the end of the ulr and declare the parameter name and value as we did bellow. "
   ]
  },
  {
   "cell_type": "code",
   "execution_count": 46,
   "metadata": {},
   "outputs": [
    {
     "data": {
      "text/plain": [
       "<Response [200]>"
      ]
     },
     "execution_count": 46,
     "metadata": {},
     "output_type": "execute_result"
    }
   ],
   "source": [
    "api_ulr = 'https://br1.api.riotgames.com/lol/league/v4/challengerleagues/by-queue/RANKED_SOLO_5x5' + '?api_key='+ api_key\n",
    "\n",
    "resp = requests.get(api_ulr)\n",
    "resp"
   ]
  },
  {
   "cell_type": "markdown",
   "metadata": {},
   "source": [
    "We are getting a 200 response code, which means sucessfull. But to see the data from this request we need to use the json method."
   ]
  },
  {
   "cell_type": "code",
   "execution_count": null,
   "metadata": {},
   "outputs": [],
   "source": [
    "api_ulr = 'https://br1.api.riotgames.com/lol/league/v4/challengerleagues/by-queue/RANKED_SOLO_5x5' + '?api_key='+ api_key\n",
    "\n",
    "resp = requests.get(api_ulr)\n",
    "resp.json()"
   ]
  },
  {
   "cell_type": "markdown",
   "metadata": {},
   "source": [
    "The important information is stored in the `entries` key, so if we pass it between [] we can acess only this part of the data"
   ]
  },
  {
   "cell_type": "code",
   "execution_count": null,
   "metadata": {},
   "outputs": [],
   "source": [
    "resp.json()['entries']"
   ]
  },
  {
   "cell_type": "markdown",
   "metadata": {},
   "source": [
    "Now to transform it into a DataFrame, to use this information, we can use the `pd.json_normalize` to the JSON data returned by the get request to turn it into a flat table."
   ]
  },
  {
   "cell_type": "code",
   "execution_count": null,
   "metadata": {},
   "outputs": [],
   "source": [
    "api_ulr = 'https://br1.api.riotgames.com/lol/league/v4/challengerleagues/by-queue/RANKED_SOLO_5x5' + '?api_key='+ api_key\n",
    " \n",
    "resp = requests.get(api_ulr)\n",
    "challenger_summoners = pd.json_normalize(resp.json()['entries'])\n",
    "challenger_summoners.head()"
   ]
  },
  {
   "cell_type": "markdown",
   "metadata": {},
   "source": [
    "Now that we now the basics about sending a request, getting the request data and transforming it into a DataFrame. We can join all we have done to create a funcion that will retunr all the information of players from Master to Challanger in Brazil, using the [League V4 Endpoint](https://developer.riotgames.com/apis#league-v4/GET_getMasterLeague).\n",
    "\n",
    "For this we will create a function that will take as a parameter the api_key.\n",
    "\n",
    "Now more about functions [here](https://www.programiz.com/python-programming/function)"
   ]
  },
  {
   "cell_type": "code",
   "execution_count": 6,
   "metadata": {},
   "outputs": [],
   "source": [
    "def get_summonerId(api_key):\n",
    "    challenger_url = 'https://br1.api.riotgames.com/lol/league/v4/challengerleagues/by-queue/RANKED_SOLO_5x5?api_key={}'.format(api_key) # Challanger ENDPOINT\n",
    "    grandmaster_url = 'https://br1.api.riotgames.com/lol/league/v4/grandmasterleagues/by-queue/RANKED_SOLO_5x5?api_key={}'.format(api_key) # Grandmaster EDNPOINT\n",
    "    master_url = 'https://br1.api.riotgames.com/lol/league/v4/masterleagues/by-queue/RANKED_SOLO_5x5?api_key={}'.format(api_key) # Master ENDPOINT\n",
    "\n",
    "    league_url_lists = [challenger_url, grandmaster_url, master_url] # Creating a list with the 3 endpoints (master, grandmaster and challenger)\n",
    "\n",
    "    df_list = [] # A list that will store the response from the get request (league_df)\n",
    "\n",
    "    for url in league_url_lists: # Loop interation through league_url_lists\n",
    "        resp = requests.get(url) # Sending a get request to the url\n",
    "        league_df = pd.json_normalize(resp.json()['entries'])\n",
    "        df_list.append(league_df)\n",
    "    \n",
    "    final_league_df = pd.concat(df_list) # Concatenating the stored information in league_url_lists to create the final_league_df\n",
    "\n",
    "    return final_league_df"
   ]
  },
  {
   "cell_type": "markdown",
   "metadata": {},
   "source": [
    "If we execute the function and assing it to a variable we can see the results"
   ]
  },
  {
   "cell_type": "code",
   "execution_count": null,
   "metadata": {},
   "outputs": [],
   "source": [
    "league_df = get_summonerId(api_key)\n",
    "league_df.head()"
   ]
  },
  {
   "cell_type": "markdown",
   "metadata": {},
   "source": [
    "Now that we have this information we can head to the Second part of this guide."
   ]
  },
  {
   "cell_type": "markdown",
   "metadata": {},
   "source": [
    "### **PART II: [SUMMONER-V4 Endpoint](https://developer.riotgames.com/apis#summoner-v4/GET_getBySummonerId)**\n",
    "\n",
    "In this part we will use the `summonerId` column from the `league_df` that we have just created to retrieve the `puuid` and other information for each player, using the [SUMMONER-V4 Endpoint](https://developer.riotgames.com/apis#summoner-v4/GET_getBySummonerId).\n"
   ]
  },
  {
   "cell_type": "markdown",
   "metadata": {},
   "source": [
    "Lets understand how this EDNPOINT works. [Click here](https://developer.riotgames.com/apis#summoner-v4) to go to the Summoner - V4 Endpoint.\n",
    "\n",
    "Click on the EDNPOINT \"/lol/summoner/v4/summoners/{encryptedSummonerId}\", scroll down and on the encryptedSummonerId value put one summonerId. Then click in \"EXECUTE REQUEST\".\n",
    "\n",
    "As we can see the Reponse Body contains summoners information, including the puuid that is what we want. \n",
    "\n",
    "Once again copy the request url in the code bellow\n",
    "\n",
    "The process will be very similar with your first api call, just a slight difference we won´t need to put['entries']to get the data, since the it is only a simple dictionary."
   ]
  },
  {
   "cell_type": "markdown",
   "metadata": {},
   "source": [
    "#### **Testing with one summonerId**"
   ]
  },
  {
   "cell_type": "code",
   "execution_count": 10,
   "metadata": {},
   "outputs": [
    {
     "data": {
      "text/html": [
       "<div>\n",
       "<style scoped>\n",
       "    .dataframe tbody tr th:only-of-type {\n",
       "        vertical-align: middle;\n",
       "    }\n",
       "\n",
       "    .dataframe tbody tr th {\n",
       "        vertical-align: top;\n",
       "    }\n",
       "\n",
       "    .dataframe thead th {\n",
       "        text-align: right;\n",
       "    }\n",
       "</style>\n",
       "<table border=\"1\" class=\"dataframe\">\n",
       "  <thead>\n",
       "    <tr style=\"text-align: right;\">\n",
       "      <th></th>\n",
       "      <th>id</th>\n",
       "      <th>accountId</th>\n",
       "      <th>puuid</th>\n",
       "      <th>name</th>\n",
       "      <th>profileIconId</th>\n",
       "      <th>revisionDate</th>\n",
       "      <th>summonerLevel</th>\n",
       "    </tr>\n",
       "  </thead>\n",
       "  <tbody>\n",
       "    <tr>\n",
       "      <th>0</th>\n",
       "      <td>mx0nf-5HtF7GNZN7u_brogQVWKxSeabEQY4JNtfeiS9lmdQ</td>\n",
       "      <td>cr94iSRf_z9J4NzALZ335TO7Q2GMWMrO8Gu0RVw95ttdJ6...</td>\n",
       "      <td>-00t9W6o2B8dQYAEBHJoGifyJhObO-Kg14aTIOFMlQk9Xi...</td>\n",
       "      <td>Griba</td>\n",
       "      <td>7</td>\n",
       "      <td>1666128939575</td>\n",
       "      <td>244</td>\n",
       "    </tr>\n",
       "  </tbody>\n",
       "</table>\n",
       "</div>"
      ],
      "text/plain": [
       "                                                id  \\\n",
       "0  mx0nf-5HtF7GNZN7u_brogQVWKxSeabEQY4JNtfeiS9lmdQ   \n",
       "\n",
       "                                           accountId  \\\n",
       "0  cr94iSRf_z9J4NzALZ335TO7Q2GMWMrO8Gu0RVw95ttdJ6...   \n",
       "\n",
       "                                               puuid   name  profileIconId  \\\n",
       "0  -00t9W6o2B8dQYAEBHJoGifyJhObO-Kg14aTIOFMlQk9Xi...  Griba              7   \n",
       "\n",
       "    revisionDate  summonerLevel  \n",
       "0  1666128939575            244  "
      ]
     },
     "execution_count": 10,
     "metadata": {},
     "output_type": "execute_result"
    }
   ],
   "source": [
    "api_ulr = 'https://br1.api.riotgames.com/lol/summoner/v4/summoners/mx0nf-5HtF7GNZN7u_brogQVWKxSeabEQY4JNtfeiS9lmdQ' + '?api_key='+ api_key\n",
    " \n",
    "resp = requests.get(api_ulr)\n",
    "summoner_info = pd.json_normalize(resp.json())\n",
    "summoner_info.head()"
   ]
  },
  {
   "cell_type": "markdown",
   "metadata": {},
   "source": [
    "Now that we were able to retrieve the summoner_info for 1 player, we need to repeat this process for each summonerId in the league_df.\n",
    "\n",
    "To do that we will create another function that will receive a DataFram containing a column named \"summonerId\" (league_df) and the api_key. In this function we will create a for loop to iterate over each summonerId repeting the process we have just did above."
   ]
  },
  {
   "cell_type": "markdown",
   "metadata": {},
   "source": [
    "#### **Creating the function**"
   ]
  },
  {
   "cell_type": "code",
   "execution_count": 5,
   "metadata": {},
   "outputs": [],
   "source": [
    "def get_summonerinfo_by_summonerId(df, api_key):\n",
    "    \n",
    "    summoner_list = [] # list that will store the each summoner_info DataFrame\n",
    "\n",
    "    for i in range(len(df)): # len() get the numbers of rows of the match_ids parameter inserted. Then we use the range() function to create a sequence of number starting from 0 to number returned by len(). \n",
    "                            # With that we can interate trough each line in the match_ids dataframe (our function parameter) using the iloc function to get the matchid.\n",
    "\n",
    "        # Creating a dynamic api_ulr for each register in the summonerId column using iloc\n",
    "        api_url = ('https://br1.api.riotgames.com/lol/summoner/v4/summoners/{}?api_key={}'.format(df['summonerId'].iloc[i],api_key)\n",
    "\n",
    "        # Repeating the process we did at the begining\n",
    "        resp = requests.get(api_url)\n",
    "        print(resp.status_code)\n",
    "\n",
    "        # if, elif and while true to deal with riot api rate limit\n",
    "        if resp.status_code == 200:\n",
    "            pass\n",
    "        elif resp.status_code == 429:\n",
    "            while True: # while loop because of riot api cost\n",
    "                if resp.status_code == 429: #429 error is api cost issue\n",
    "                    print('429 delay try 10 second') #approximate 10 second wait before trying again\n",
    "                    time.sleep(10)\n",
    "\n",
    "                    # Trying again\n",
    "                    api_url = ('https://br1.api.riotgames.com/lol/summoner/v4/summoners/{}?api_key={}'.format(df['summonerId'].iloc[i],api_key)\n",
    "                    resp = requests.get(api_url)\n",
    "                    print(resp.status_code)\n",
    "\n",
    "                elif resp.status_code == 200:\n",
    "                    print('limit cost resolve')\n",
    "                    break\n",
    "\n",
    "        summoner_info = pd.json_normalize(resp.json()) # The same process we did at the beggining to create the DataFrame\n",
    "        summoner_list.append(summoner_info) # Appending the DataFrame generated (summoner_info) into the list \"summoner_list\"\n",
    "        \n",
    "    final_summoner_info = pd.concat(summoner_list) # Using pd.concat to concatenate the results stored in the list \"summoner_list\"\n",
    "            \n",
    "    return final_summoner_info\n",
    "    "
   ]
  },
  {
   "cell_type": "markdown",
   "metadata": {},
   "source": [
    "If we execute the function and assing it to a variable we can see the results. \n",
    "\n",
    "Take care, because the code took about 1:30 hour to execute in my computer. So you might want to save it for further usage."
   ]
  },
  {
   "cell_type": "code",
   "execution_count": null,
   "metadata": {},
   "outputs": [],
   "source": [
    "summoner_df = get_summonerinfo_by_summonerId(league_df, api_key)"
   ]
  },
  {
   "cell_type": "markdown",
   "metadata": {},
   "source": [
    "Reseting the index"
   ]
  },
  {
   "cell_type": "code",
   "execution_count": null,
   "metadata": {},
   "outputs": [],
   "source": [
    "summoner_df.reset_index(inplace = True) # Reseting the Index\n",
    "summoner_df.drop(columns='index', inplace = True) # Droping the column Index\n",
    "summoner_df.head()"
   ]
  },
  {
   "cell_type": "markdown",
   "metadata": {},
   "source": [
    "Saving the summoner_df"
   ]
  },
  {
   "cell_type": "code",
   "execution_count": null,
   "metadata": {},
   "outputs": [],
   "source": [
    "summoner_df.to_csv('summoner_df.csv', index = False) "
   ]
  },
  {
   "cell_type": "markdown",
   "metadata": {},
   "source": [
    "## **PART III: [MATCH-V5 Endpoint](https://developer.riotgames.com/apis#match-v5/GET_getMatch)**\n",
    "\n",
    "In this part we will use the `puuid` column from the `summoner_df`, that we've just created, to retrieve the last 20 matchIds for each `puuid`, using the [match V5 Endpoint](https://developer.riotgames.com/apis#match-v5/GET_getMatch)."
   ]
  },
  {
   "cell_type": "markdown",
   "metadata": {},
   "source": [
    "So first lets understand how this EDNPOINT works. [Click here](https://developer.riotgames.com/apis#match-v5) to go to the Match-V5 Endpoint.\n",
    "\n",
    "Click on the EDNPOINT \"/lol/match/v5/matches/by-puuid/{puuid}/ids\", scroll down and on the path parameters insert this puuid \"907TX3ji-JNb3NFS2m0hq0SBc4t0MFIuR0zG_nN-MAe1KY415e8GNgslVgdaBMXvfmFzLh5m7SvsiA\". Now on the Query parameters insert '420' as the queue and select ranked for the type. After that you click in \"EXECUTE REQUEST\".\n",
    "\n",
    "As we can see in the Response Body contains a list of the last 20 match Ids from the player. So everything is all right.\n",
    "\n",
    "Once again get the request url and copy it in the api_url"
   ]
  },
  {
   "cell_type": "markdown",
   "metadata": {},
   "source": [
    "#### **Testing with one puuid**"
   ]
  },
  {
   "cell_type": "code",
   "execution_count": null,
   "metadata": {},
   "outputs": [],
   "source": [
    "# & instead of ?, because there's already a ? in the original url\n",
    "api_ulr = 'https://americas.api.riotgames.com/lol/match/v5/matches/by-puuid/907TX3ji-JNb3NFS2m0hq0SBc4t0MFIuR0zG_nN-MAe1KY415e8GNgslVgdaBMXvfmFzLh5m7SvsiA/ids?queue=420&type=ranked&start=0&count=20' + '&api_key=' + api_key\n",
    " \n",
    "resp = requests.get(api_ulr)\n",
    "resp.json()"
   ]
  },
  {
   "cell_type": "markdown",
   "metadata": {},
   "source": [
    "We can see that the data returned by `resp.json()` is a list of matchIds. To transform it into a DataFrame we can use pd.DataFrame(), passing the resp.json as the data and 'matchid' as the column."
   ]
  },
  {
   "cell_type": "code",
   "execution_count": null,
   "metadata": {},
   "outputs": [],
   "source": [
    "api_ulr = 'https://americas.api.riotgames.com/lol/match/v5/matches/by-puuid/907TX3ji-JNb3NFS2m0hq0SBc4t0MFIuR0zG_nN-MAe1KY415e8GNgslVgdaBMXvfmFzLh5m7SvsiA/ids?queue=420&type=ranked&start=0&count=20' + '&api_key=' + api_key\n",
    " \n",
    "resp = requests.get(api_ulr)\n",
    "matchids = pd.DataFrame(resp.json(), columns = ['matchid'])\n",
    "matchids.head()"
   ]
  },
  {
   "cell_type": "markdown",
   "metadata": {},
   "source": [
    "Now that we were able to retrieve the last 20 5v5 Ranked Solo games for 1 player, we need to be able to repeat this process for each puuid in the summoner_df.\n",
    "\n",
    "To do that we will create a function that will receive a DataFrame containing a column named \"puuid\" (summoner_df) and the api_key. In this function we will create a for loop to iterate over each puuid repeting the process we have just did above."
   ]
  },
  {
   "cell_type": "markdown",
   "metadata": {},
   "source": [
    "#### **Creating the function**"
   ]
  },
  {
   "cell_type": "code",
   "execution_count": 14,
   "metadata": {},
   "outputs": [],
   "source": [
    "def get_matchids_by_puuid(df, api_key):\n",
    "\n",
    "    matchids_list = []\n",
    "\n",
    "    for i in range(len(df)):\n",
    "\n",
    "        api_url = 'https://americas.api.riotgames.com/lol/match/v5/matches/by-puuid/{}/ids?queue=420&type=ranked&start=0&count=20&api_key={}'.format(df['puuid'].iloc[i], api_key)\n",
    "\n",
    "        resp = requests.get(api_url) # Sending a get request to the api_url\n",
    "        print(resp.status_code)\n",
    "\n",
    "        if resp.status_code == 200:\n",
    "            pass\n",
    "        elif resp.status_code == 429:\n",
    "            while True: # while loop because of riot api cost\n",
    "                if resp.status_code == 429: #429 error is api cost issue\n",
    "                    print('429 delay try 100 second') #approximate 110 second wait\n",
    "                    time.sleep(10)\n",
    "\n",
    "                    api_url = 'https://americas.api.riotgames.com/lol/match/v5/matches/by-puuid/{}/ids?queue=420&type=ranked&start=0&count=20&api_key={}'.format(df['puuid'].iloc[i], api_key)\n",
    "                    resp = requests.get(api_url)\n",
    "                    print(resp.status_code)\n",
    "\n",
    "                elif resp.status_code == 200:\n",
    "                    print('limit cost resolve')\n",
    "                    break        \n",
    "\n",
    "        matchids = pd.DataFrame(resp.json(), columns = ['matchid']) \n",
    "        matchids_list.append(matchids) # Appending the DataFrame generated to the list \"matchids_list\"\n",
    "    \n",
    "    matchids_df = pd.concat(matchids_list) # Using pd.concat to concatenate the results stored in the \"matchids_list\"\n",
    "    \n",
    "    return matchids_df"
   ]
  },
  {
   "cell_type": "markdown",
   "metadata": {},
   "source": [
    "#### **Executing the `get_matchids_by_puuid` function**\n",
    "\n",
    "Take care, because if you try to execute the fucntion using the entire summoner_df it will took about 1:30 hours to execute, and it can fail many times before it runs successfully. So to avoida that, I've splited the summoner_df in half. Now I can run the function twice and then concatenated both results into a single DF. Each code takes about 45 minutes to complete, so you can do something while you are waiting. After that saved it for further usage."
   ]
  },
  {
   "cell_type": "code",
   "execution_count": 22,
   "metadata": {},
   "outputs": [
    {
     "name": "stdout",
     "output_type": "stream",
     "text": [
      "O summoner_df possui 4399 linhas\n"
     ]
    }
   ],
   "source": [
    "print('O summoner_df possui {} linhas'.format(summoner_df.shape[0]))"
   ]
  },
  {
   "cell_type": "code",
   "execution_count": null,
   "metadata": {},
   "outputs": [],
   "source": [
    "matchids_df = get_matchids_by_puuid(summoner_df.loc[:2200], api_key)"
   ]
  },
  {
   "cell_type": "code",
   "execution_count": null,
   "metadata": {},
   "outputs": [],
   "source": [
    "matchids_df_1 = get_matchids_by_puuid(summoner_df.loc[2201:], api_key)"
   ]
  },
  {
   "cell_type": "code",
   "execution_count": null,
   "metadata": {},
   "outputs": [],
   "source": [
    "matchids_df_list = [matchids_df, matchids_df_1]\n",
    "\n",
    "final_matchids_df= pd.concat(matchids_df_list)\n",
    "final_matchids_df"
   ]
  },
  {
   "cell_type": "markdown",
   "metadata": {},
   "source": [
    "Reseting the Index"
   ]
  },
  {
   "cell_type": "code",
   "execution_count": null,
   "metadata": {},
   "outputs": [],
   "source": [
    "final_matchids_df.reset_index(inplace=True)\n",
    "final_matchids_df.drop(columns = 'index', inplace = True )\n",
    "final_matchids_df.head()"
   ]
  },
  {
   "cell_type": "markdown",
   "metadata": {},
   "source": [
    "Dropping duplicates, since we only want unique matchids"
   ]
  },
  {
   "cell_type": "code",
   "execution_count": 43,
   "metadata": {},
   "outputs": [],
   "source": [
    "final_matchids_df_without_duplicates = final_matchids_df.drop_duplicates()"
   ]
  },
  {
   "cell_type": "code",
   "execution_count": 44,
   "metadata": {},
   "outputs": [
    {
     "name": "stdout",
     "output_type": "stream",
     "text": [
      "Before we had 87980 matchids, after we have 35537 matchids\n"
     ]
    }
   ],
   "source": [
    "matchids_count_before = final_matchids_df.shape[0]\n",
    "matchids_count_after = final_matchids_df_without_duplicates.shape[0]\n",
    "print('Before we had {} matchids, after we have {} matchids'.format(matchids_count_before, matchids_count_after))"
   ]
  },
  {
   "cell_type": "markdown",
   "metadata": {},
   "source": [
    "Saving the `matchids_df_without_duplicates`"
   ]
  },
  {
   "cell_type": "code",
   "execution_count": 45,
   "metadata": {},
   "outputs": [],
   "source": [
    "final_matchids_df_without_duplicates.to_csv('matchids_df.csv', index = False)"
   ]
  }
 ],
 "metadata": {
  "kernelspec": {
   "display_name": "Python 3.9.12 ('base')",
   "language": "python",
   "name": "python3"
  },
  "language_info": {
   "codemirror_mode": {
    "name": "ipython",
    "version": 3
   },
   "file_extension": ".py",
   "mimetype": "text/x-python",
   "name": "python",
   "nbconvert_exporter": "python",
   "pygments_lexer": "ipython3",
   "version": "3.9.12"
  },
  "orig_nbformat": 4,
  "vscode": {
   "interpreter": {
    "hash": "d8ec4a234a3048a765173e7b64119a8d1a8e4ce4548f9a2d0fe97ce15d6f4926"
   }
  }
 },
 "nbformat": 4,
 "nbformat_minor": 2
}
